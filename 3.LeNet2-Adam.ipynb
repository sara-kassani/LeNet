{
 "cells": [
  {
   "cell_type": "code",
   "execution_count": 1,
   "metadata": {},
   "outputs": [
    {
     "name": "stderr",
     "output_type": "stream",
     "text": [
      "/home/sara/anaconda3/lib/python3.6/importlib/_bootstrap.py:219: RuntimeWarning: numpy.dtype size changed, may indicate binary incompatibility. Expected 96, got 88\n",
      "  return f(*args, **kwds)\n",
      "/home/sara/anaconda3/lib/python3.6/site-packages/h5py/__init__.py:36: FutureWarning: Conversion of the second argument of issubdtype from `float` to `np.floating` is deprecated. In future, it will be treated as `np.float64 == np.dtype(float).type`.\n",
      "  from ._conv import register_converters as _register_converters\n",
      "/home/sara/anaconda3/lib/python3.6/importlib/_bootstrap.py:219: RuntimeWarning: numpy.dtype size changed, may indicate binary incompatibility. Expected 96, got 88\n",
      "  return f(*args, **kwds)\n",
      "/home/sara/anaconda3/lib/python3.6/importlib/_bootstrap.py:219: RuntimeWarning: numpy.dtype size changed, may indicate binary incompatibility. Expected 96, got 88\n",
      "  return f(*args, **kwds)\n"
     ]
    },
    {
     "name": "stdout",
     "output_type": "stream",
     "text": [
      "[name: \"/device:CPU:0\"\n",
      "device_type: \"CPU\"\n",
      "memory_limit: 268435456\n",
      "locality {\n",
      "}\n",
      "incarnation: 4402585077805299088\n",
      "]\n"
     ]
    },
    {
     "name": "stderr",
     "output_type": "stream",
     "text": [
      "/home/sara/anaconda3/lib/python3.6/importlib/_bootstrap.py:219: RuntimeWarning: numpy.dtype size changed, may indicate binary incompatibility. Expected 96, got 88\n",
      "  return f(*args, **kwds)\n"
     ]
    }
   ],
   "source": [
    "from tensorflow.python.client import device_lib\n",
    "print(device_lib.list_local_devices())"
   ]
  },
  {
   "cell_type": "code",
   "execution_count": 2,
   "metadata": {},
   "outputs": [
    {
     "name": "stdout",
     "output_type": "stream",
     "text": [
      "\n"
     ]
    }
   ],
   "source": [
    "import tensorflow as tf\n",
    "print(tf.test.gpu_device_name())\n",
    "# See https://www.tensorflow.org/tutorials/using_gpu#allowing_gpu_memory_growth\n",
    "config = tf.ConfigProto()\n",
    "config.gpu_options.allow_growth = True\n"
   ]
  },
  {
   "cell_type": "code",
   "execution_count": 3,
   "metadata": {},
   "outputs": [
    {
     "name": "stderr",
     "output_type": "stream",
     "text": [
      "Using TensorFlow backend.\n",
      "/home/sara/anaconda3/lib/python3.6/importlib/_bootstrap.py:219: RuntimeWarning: numpy.dtype size changed, may indicate binary incompatibility. Expected 96, got 88\n",
      "  return f(*args, **kwds)\n",
      "/home/sara/anaconda3/lib/python3.6/importlib/_bootstrap.py:219: RuntimeWarning: numpy.dtype size changed, may indicate binary incompatibility. Expected 96, got 88\n",
      "  return f(*args, **kwds)\n"
     ]
    }
   ],
   "source": [
    "import os\n",
    "import tensorflow as tf\n",
    "from keras.models import Model\n",
    "from keras.layers.core import Activation, Flatten, Dense, Dropout\n",
    "from keras.layers.convolutional import Conv2D\n",
    "from keras.layers.pooling import MaxPooling2D\n",
    "from keras.layers import Input\n",
    "from keras.layers.normalization import BatchNormalization\n",
    "from keras.models import Sequential\n",
    "from keras.layers import Dense, Dropout, Activation, Flatten, Conv2D, MaxPooling2D\n",
    "from keras.applications.xception import Xception, preprocess_input\n",
    "from keras.regularizers import l2\n",
    "from keras.models import *\n",
    "from keras.layers import *\n",
    "from keras.optimizers import *\n",
    "import tflearn\n",
    "import numpy as np\n",
    "from tflearn.layers.conv import conv_2d, max_pool_2d\n",
    "from tflearn.layers.core import input_data, dropout, fully_connected\n",
    "from tflearn.layers.normalization import local_response_normalization\n",
    "from alexnet_additional_layers import split_tensor, cross_channel_normalization\n",
    "from decode_predictions import decode_classnames_json, decode_classnumber\n",
    "from keras.preprocessing.image import ImageDataGenerator\n",
    "from keras.callbacks import ModelCheckpoint\n",
    "import matplotlib.pyplot as plt\n",
    "\n",
    "from Eve import Eve\n",
    "\n",
    "%matplotlib inline"
   ]
  },
  {
   "cell_type": "markdown",
   "metadata": {},
   "source": [
    "___"
   ]
  },
  {
   "cell_type": "code",
   "execution_count": 4,
   "metadata": {},
   "outputs": [],
   "source": [
    "train_dir = 'data/Reinhard'"
   ]
  },
  {
   "cell_type": "code",
   "execution_count": 5,
   "metadata": {},
   "outputs": [
    {
     "name": "stdout",
     "output_type": "stream",
     "text": [
      "data/training 0\n",
      "data/training/Invasive 7\n",
      "data/training/Normal 7\n",
      "data/training/InSitu 7\n",
      "data/training/Benign 7\n"
     ]
    }
   ],
   "source": [
    "for root,dirs,files in os.walk(train_dir):\n",
    "    print (root, len(files))"
   ]
  },
  {
   "cell_type": "code",
   "execution_count": 6,
   "metadata": {},
   "outputs": [],
   "source": [
    "target_size = (256, 256)\n",
    "img_rows, img_cols = (256, 256)\n",
    "nb_classes = 4"
   ]
  },
  {
   "cell_type": "code",
   "execution_count": 7,
   "metadata": {},
   "outputs": [
    {
     "name": "stdout",
     "output_type": "stream",
     "text": [
      "Found 24 images belonging to 4 classes.\n",
      "Found 4 images belonging to 4 classes.\n"
     ]
    }
   ],
   "source": [
    "from keras.preprocessing.image import ImageDataGenerator\n",
    "\n",
    "# this is the augmentation configuration we will use for training\n",
    "train_datagen = ImageDataGenerator(\n",
    "    rescale=1. / 255,\n",
    "    shear_range=0.2,\n",
    "    zoom_range=0.2,\n",
    "        width_shift_range=0.2,\n",
    "        height_shift_range=0.2,\n",
    "        fill_mode='nearest',\n",
    "    horizontal_flip=True,\n",
    "    validation_split=0.25)\n",
    "\n",
    "# this is the augmentation configuration we will use for testing:\n",
    "# only rescaling\n",
    "test_datagen = ImageDataGenerator(rescale=1. / 255)\n",
    "\n",
    "\n",
    "#target_size: Tuple of integers (height, width), default: (256, 256). \n",
    "#The dimensions to which all images found will be resized.\n",
    "\n",
    "#target_size = (height, width)\n",
    "train_generator = train_datagen.flow_from_directory(\n",
    "        train_dir,\n",
    "        target_size = target_size,       \n",
    "        class_mode = 'categorical',\n",
    "        batch_size=32,\n",
    "        subset=\"training\",\n",
    "        shuffle = True)\n",
    "\n",
    "validation_generator = train_datagen.flow_from_directory(\n",
    "        train_dir,\n",
    "        target_size = target_size,        \n",
    "        class_mode = 'categorical',\n",
    "        batch_size=32,\n",
    "        subset = \"validation\",\n",
    "        shuffle = True)"
   ]
  },
  {
   "cell_type": "code",
   "execution_count": 8,
   "metadata": {},
   "outputs": [],
   "source": [
    "## Intilizing variables\n",
    "output_classes = 4\n",
    "batch_size = 32 \n",
    "epochs = 30\n",
    "\n",
    "sgd_opt = SGD(lr=1E-2, decay=1E-4, momentum=0.9, nesterov=True)\n",
    "adam_opt = Adam(lr=1E-4, beta_1=0.9, beta_2=0.999, epsilon=1e-08, decay=1E-4)\n",
    "eve_opt = Eve(lr=1E-4, decay=1E-4, beta_1=0.9, beta_2=0.999, beta_3=0.999, small_k=0.1, big_K=10, epsilon=1e-08)"
   ]
  },
  {
   "cell_type": "code",
   "execution_count": 9,
   "metadata": {},
   "outputs": [],
   "source": [
    "def Lenet2():\n",
    "    x_input = Input(shape=(img_rows, img_cols, 3), name=\"input\")\n",
    "    x = Conv2D(32, (3, 3))(x_input)\n",
    "    x = Dropout(0.2)(x)\n",
    "    x = Activation('relu')(x)\n",
    "    x = MaxPooling2D(pool_size = (2, 2))(x)\n",
    "    # second layer CONV => RELU => POOL\n",
    "    x = Conv2D(32, (3, 3))(x)\n",
    "    x = Dropout(0.2)(x)\n",
    "    x = Activation('relu')(x)\n",
    "    x = MaxPooling2D(pool_size = (2, 2))(x)\n",
    "    # third layer of CONV => RELU => POOL\n",
    "    x = Conv2D(64, (3, 3))(x)\n",
    "    x = Dropout(0.2)(x)\n",
    "    x = Activation('relu')(x)\n",
    "    x = MaxPooling2D(pool_size = (2, 2))(x)\n",
    "    # set of FC => RELU layers\n",
    "    x = Flatten()(x)\n",
    "    # number of neurons in FC layer = 128\n",
    "    x = Dense(128)(x)\n",
    "    x = Activation('relu')(x)\n",
    "    x = Dropout(0.5)(x)\n",
    "    # as number of classes is 36\n",
    "    x = Dense(nb_classes)(x)\n",
    "    x = Activation('softmax')(x)\n",
    "\n",
    "    Lenet2 = Model(inputs=[x_input], outputs=[x])\n",
    "    return Lenet2"
   ]
  },
  {
   "cell_type": "code",
   "execution_count": 10,
   "metadata": {},
   "outputs": [
    {
     "name": "stdout",
     "output_type": "stream",
     "text": [
      "_________________________________________________________________\n",
      "Layer (type)                 Output Shape              Param #   \n",
      "=================================================================\n",
      "input (InputLayer)           (None, 256, 256, 3)       0         \n",
      "_________________________________________________________________\n",
      "conv2d_1 (Conv2D)            (None, 254, 254, 32)      896       \n",
      "_________________________________________________________________\n",
      "dropout_1 (Dropout)          (None, 254, 254, 32)      0         \n",
      "_________________________________________________________________\n",
      "activation_1 (Activation)    (None, 254, 254, 32)      0         \n",
      "_________________________________________________________________\n",
      "max_pooling2d_1 (MaxPooling2 (None, 127, 127, 32)      0         \n",
      "_________________________________________________________________\n",
      "conv2d_2 (Conv2D)            (None, 125, 125, 32)      9248      \n",
      "_________________________________________________________________\n",
      "dropout_2 (Dropout)          (None, 125, 125, 32)      0         \n",
      "_________________________________________________________________\n",
      "activation_2 (Activation)    (None, 125, 125, 32)      0         \n",
      "_________________________________________________________________\n",
      "max_pooling2d_2 (MaxPooling2 (None, 62, 62, 32)        0         \n",
      "_________________________________________________________________\n",
      "conv2d_3 (Conv2D)            (None, 60, 60, 64)        18496     \n",
      "_________________________________________________________________\n",
      "dropout_3 (Dropout)          (None, 60, 60, 64)        0         \n",
      "_________________________________________________________________\n",
      "activation_3 (Activation)    (None, 60, 60, 64)        0         \n",
      "_________________________________________________________________\n",
      "max_pooling2d_3 (MaxPooling2 (None, 30, 30, 64)        0         \n",
      "_________________________________________________________________\n",
      "flatten_1 (Flatten)          (None, 57600)             0         \n",
      "_________________________________________________________________\n",
      "dense_1 (Dense)              (None, 128)               7372928   \n",
      "_________________________________________________________________\n",
      "activation_4 (Activation)    (None, 128)               0         \n",
      "_________________________________________________________________\n",
      "dropout_4 (Dropout)          (None, 128)               0         \n",
      "_________________________________________________________________\n",
      "dense_2 (Dense)              (None, 4)                 516       \n",
      "_________________________________________________________________\n",
      "activation_5 (Activation)    (None, 4)                 0         \n",
      "=================================================================\n",
      "Total params: 7,402,084\n",
      "Trainable params: 7,402,084\n",
      "Non-trainable params: 0\n",
      "_________________________________________________________________\n"
     ]
    }
   ],
   "source": [
    "model = Lenet2()\n",
    "model.summary()\n",
    "model.compile(loss = 'categorical_crossentropy',\n",
    "              optimizer = adam_opt,\n",
    "              metrics = ['accuracy'])"
   ]
  },
  {
   "cell_type": "code",
   "execution_count": 11,
   "metadata": {},
   "outputs": [
    {
     "data": {
      "text/plain": [
       "24"
      ]
     },
     "execution_count": 11,
     "metadata": {},
     "output_type": "execute_result"
    }
   ],
   "source": [
    "num_train_samples= len(train_generator.filenames)\n",
    "num_train_samples"
   ]
  },
  {
   "cell_type": "code",
   "execution_count": 12,
   "metadata": {},
   "outputs": [
    {
     "data": {
      "text/plain": [
       "4"
      ]
     },
     "execution_count": 12,
     "metadata": {},
     "output_type": "execute_result"
    }
   ],
   "source": [
    "num_val_samples= len(validation_generator.filenames)\n",
    "num_val_samples"
   ]
  },
  {
   "cell_type": "code",
   "execution_count": 13,
   "metadata": {},
   "outputs": [
    {
     "name": "stdout",
     "output_type": "stream",
     "text": [
      "Epoch 1/30\n",
      "1/1 [==============================] - 3s 3s/step - loss: 1.4775 - acc: 0.2917 - val_loss: 1.4377 - val_acc: 0.2500\n",
      "Epoch 2/30\n",
      "1/1 [==============================] - 2s 2s/step - loss: 1.5811 - acc: 0.2500 - val_loss: 1.3888 - val_acc: 0.2500\n",
      "Epoch 3/30\n",
      "1/1 [==============================] - 2s 2s/step - loss: 1.7947 - acc: 0.1667 - val_loss: 1.3879 - val_acc: 0.2500\n",
      "Epoch 4/30\n",
      "1/1 [==============================] - 2s 2s/step - loss: 1.4992 - acc: 0.2083 - val_loss: 1.3839 - val_acc: 0.2500\n",
      "Epoch 5/30\n",
      "1/1 [==============================] - 2s 2s/step - loss: 1.5092 - acc: 0.2917 - val_loss: 1.3907 - val_acc: 0.2500\n",
      "Epoch 6/30\n",
      "1/1 [==============================] - 3s 3s/step - loss: 1.4601 - acc: 0.2083 - val_loss: 1.3876 - val_acc: 0.2500\n",
      "Epoch 7/30\n",
      "1/1 [==============================] - 3s 3s/step - loss: 1.6245 - acc: 0.0833 - val_loss: 1.3819 - val_acc: 0.2500\n",
      "Epoch 8/30\n",
      "1/1 [==============================] - 3s 3s/step - loss: 1.4315 - acc: 0.3750 - val_loss: 1.3783 - val_acc: 0.2500\n",
      "Epoch 9/30\n",
      "1/1 [==============================] - 3s 3s/step - loss: 1.3172 - acc: 0.3333 - val_loss: 1.3819 - val_acc: 0.2500\n",
      "Epoch 10/30\n",
      "1/1 [==============================] - 4s 4s/step - loss: 1.4835 - acc: 0.1667 - val_loss: 1.3813 - val_acc: 0.2500\n",
      "Epoch 11/30\n",
      "1/1 [==============================] - 4s 4s/step - loss: 1.4684 - acc: 0.2500 - val_loss: 1.3890 - val_acc: 0.2500\n",
      "Epoch 12/30\n",
      "1/1 [==============================] - 4s 4s/step - loss: 1.3561 - acc: 0.2500 - val_loss: 1.3756 - val_acc: 0.2500\n",
      "Epoch 13/30\n",
      "1/1 [==============================] - 4s 4s/step - loss: 1.4643 - acc: 0.2500 - val_loss: 1.3739 - val_acc: 0.2500\n",
      "Epoch 14/30\n",
      "1/1 [==============================] - 4s 4s/step - loss: 1.3820 - acc: 0.3333 - val_loss: 1.3734 - val_acc: 0.2500\n",
      "Epoch 15/30\n",
      "1/1 [==============================] - 4s 4s/step - loss: 1.3828 - acc: 0.3333 - val_loss: 1.3701 - val_acc: 0.2500\n",
      "Epoch 16/30\n",
      "1/1 [==============================] - 4s 4s/step - loss: 1.4230 - acc: 0.2083 - val_loss: 1.3712 - val_acc: 0.2500\n",
      "Epoch 17/30\n",
      "1/1 [==============================] - 4s 4s/step - loss: 1.4172 - acc: 0.2917 - val_loss: 1.3714 - val_acc: 0.5000\n",
      "Epoch 18/30\n",
      "1/1 [==============================] - 4s 4s/step - loss: 1.3796 - acc: 0.2917 - val_loss: 1.3701 - val_acc: 0.7500\n",
      "Epoch 19/30\n",
      "1/1 [==============================] - 4s 4s/step - loss: 1.4031 - acc: 0.3333 - val_loss: 1.3697 - val_acc: 0.5000\n",
      "Epoch 20/30\n",
      "1/1 [==============================] - 5s 5s/step - loss: 1.3995 - acc: 0.2917 - val_loss: 1.3666 - val_acc: 0.5000\n",
      "Epoch 21/30\n",
      "1/1 [==============================] - 4s 4s/step - loss: 1.3811 - acc: 0.3750 - val_loss: 1.3670 - val_acc: 0.5000\n",
      "Epoch 22/30\n",
      "1/1 [==============================] - 4s 4s/step - loss: 1.3619 - acc: 0.3750 - val_loss: 1.3691 - val_acc: 0.5000\n",
      "Epoch 23/30\n",
      "1/1 [==============================] - 4s 4s/step - loss: 1.3122 - acc: 0.3750 - val_loss: 1.3707 - val_acc: 0.5000\n",
      "Epoch 24/30\n",
      "1/1 [==============================] - 4s 4s/step - loss: 1.2941 - acc: 0.5417 - val_loss: 1.3661 - val_acc: 0.5000\n",
      "Epoch 25/30\n",
      "1/1 [==============================] - 5s 5s/step - loss: 1.2876 - acc: 0.4583 - val_loss: 1.3598 - val_acc: 0.7500\n",
      "Epoch 26/30\n",
      "1/1 [==============================] - 5s 5s/step - loss: 1.2982 - acc: 0.4167 - val_loss: 1.3598 - val_acc: 0.7500\n",
      "Epoch 27/30\n",
      "1/1 [==============================] - 4s 4s/step - loss: 1.4208 - acc: 0.3333 - val_loss: 1.3619 - val_acc: 0.7500\n",
      "Epoch 28/30\n",
      "1/1 [==============================] - 4s 4s/step - loss: 1.3919 - acc: 0.2500 - val_loss: 1.3480 - val_acc: 0.5000\n",
      "Epoch 29/30\n",
      "1/1 [==============================] - 5s 5s/step - loss: 1.3411 - acc: 0.2500 - val_loss: 1.3518 - val_acc: 0.5000\n",
      "Epoch 30/30\n",
      "1/1 [==============================] - 5s 5s/step - loss: 1.3540 - acc: 0.2917 - val_loss: 1.3420 - val_acc: 0.5000\n"
     ]
    }
   ],
   "source": [
    "history = model.fit_generator(train_generator,\n",
    "        steps_per_epoch =int(np.ceil(num_train_samples * 1.0 / batch_size)),\n",
    "        epochs = epochs,\n",
    "        validation_data = validation_generator,\n",
    "        validation_steps=int(np.ceil(num_val_samples * 1.0 / batch_size)))"
   ]
  },
  {
   "cell_type": "code",
   "execution_count": 14,
   "metadata": {},
   "outputs": [
    {
     "name": "stdout",
     "output_type": "stream",
     "text": [
      "dict_keys(['val_loss', 'val_acc', 'loss', 'acc'])\n"
     ]
    }
   ],
   "source": [
    "print(history.history.keys())"
   ]
  },
  {
   "cell_type": "code",
   "execution_count": 15,
   "metadata": {},
   "outputs": [
    {
     "data": {
      "text/plain": [
       "[1.4376510381698608,\n",
       " 1.3887852430343628,\n",
       " 1.387933373451233,\n",
       " 1.3839337825775146,\n",
       " 1.3906675577163696,\n",
       " 1.387595295906067,\n",
       " 1.3818764686584473,\n",
       " 1.3782553672790527,\n",
       " 1.3819365501403809,\n",
       " 1.3812816143035889,\n",
       " 1.3890148401260376,\n",
       " 1.3756401538848877,\n",
       " 1.3738605976104736,\n",
       " 1.3734102249145508,\n",
       " 1.3701231479644775,\n",
       " 1.3712058067321777,\n",
       " 1.3713839054107666,\n",
       " 1.370110034942627,\n",
       " 1.369658350944519,\n",
       " 1.3665509223937988,\n",
       " 1.366974115371704,\n",
       " 1.3690567016601562,\n",
       " 1.3706655502319336,\n",
       " 1.3660774230957031,\n",
       " 1.359752893447876,\n",
       " 1.3597859144210815,\n",
       " 1.3618590831756592,\n",
       " 1.3480072021484375,\n",
       " 1.351773977279663,\n",
       " 1.3419756889343262]"
      ]
     },
     "execution_count": 15,
     "metadata": {},
     "output_type": "execute_result"
    }
   ],
   "source": [
    "history.history[\"val_loss\"]"
   ]
  },
  {
   "cell_type": "code",
   "execution_count": 16,
   "metadata": {},
   "outputs": [
    {
     "data": {
      "text/plain": [
       "[0.25,\n",
       " 0.25,\n",
       " 0.25,\n",
       " 0.25,\n",
       " 0.25,\n",
       " 0.25,\n",
       " 0.25,\n",
       " 0.25,\n",
       " 0.25,\n",
       " 0.25,\n",
       " 0.25,\n",
       " 0.25,\n",
       " 0.25,\n",
       " 0.25,\n",
       " 0.25,\n",
       " 0.25,\n",
       " 0.5,\n",
       " 0.75,\n",
       " 0.5,\n",
       " 0.5,\n",
       " 0.5,\n",
       " 0.5,\n",
       " 0.5,\n",
       " 0.5,\n",
       " 0.75,\n",
       " 0.75,\n",
       " 0.75,\n",
       " 0.5,\n",
       " 0.5,\n",
       " 0.5]"
      ]
     },
     "execution_count": 16,
     "metadata": {},
     "output_type": "execute_result"
    }
   ],
   "source": [
    "history.history[\"val_acc\"]"
   ]
  },
  {
   "cell_type": "code",
   "execution_count": 17,
   "metadata": {},
   "outputs": [
    {
     "data": {
      "text/plain": [
       "[1.4774976968765259,\n",
       " 1.5811238288879395,\n",
       " 1.7946600914001465,\n",
       " 1.4992254972457886,\n",
       " 1.509205937385559,\n",
       " 1.460108757019043,\n",
       " 1.6245454549789429,\n",
       " 1.431523323059082,\n",
       " 1.31717050075531,\n",
       " 1.4835067987442017,\n",
       " 1.4684253931045532,\n",
       " 1.3561030626296997,\n",
       " 1.4642915725708008,\n",
       " 1.3820104598999023,\n",
       " 1.3828195333480835,\n",
       " 1.4230265617370605,\n",
       " 1.4172388315200806,\n",
       " 1.3795901536941528,\n",
       " 1.4030661582946777,\n",
       " 1.3995137214660645,\n",
       " 1.3811177015304565,\n",
       " 1.3618589639663696,\n",
       " 1.3121625185012817,\n",
       " 1.2941125631332397,\n",
       " 1.2875832319259644,\n",
       " 1.298238754272461,\n",
       " 1.4207695722579956,\n",
       " 1.3919296264648438,\n",
       " 1.341133713722229,\n",
       " 1.3540072441101074]"
      ]
     },
     "execution_count": 17,
     "metadata": {},
     "output_type": "execute_result"
    }
   ],
   "source": [
    "history.history[\"loss\"]"
   ]
  },
  {
   "cell_type": "code",
   "execution_count": 18,
   "metadata": {},
   "outputs": [
    {
     "data": {
      "text/plain": [
       "[0.2916666567325592,\n",
       " 0.25,\n",
       " 0.1666666716337204,\n",
       " 0.2083333283662796,\n",
       " 0.2916666567325592,\n",
       " 0.2083333283662796,\n",
       " 0.0833333358168602,\n",
       " 0.375,\n",
       " 0.3333333432674408,\n",
       " 0.1666666716337204,\n",
       " 0.25,\n",
       " 0.25,\n",
       " 0.25,\n",
       " 0.3333333432674408,\n",
       " 0.3333333432674408,\n",
       " 0.2083333283662796,\n",
       " 0.2916666567325592,\n",
       " 0.2916666567325592,\n",
       " 0.3333333432674408,\n",
       " 0.2916666567325592,\n",
       " 0.375,\n",
       " 0.375,\n",
       " 0.375,\n",
       " 0.5416666865348816,\n",
       " 0.4583333432674408,\n",
       " 0.4166666567325592,\n",
       " 0.3333333432674408,\n",
       " 0.25,\n",
       " 0.25,\n",
       " 0.2916666567325592]"
      ]
     },
     "execution_count": 18,
     "metadata": {},
     "output_type": "execute_result"
    }
   ],
   "source": [
    "history.history[\"acc\"]"
   ]
  },
  {
   "cell_type": "code",
   "execution_count": 19,
   "metadata": {},
   "outputs": [
    {
     "name": "stdout",
     "output_type": "stream",
     "text": [
      "Test Score:  1.346611065864563\n",
      "Test Accuracy:  0.57\n"
     ]
    }
   ],
   "source": [
    "score = model.evaluate_generator(validation_generator, steps=50)\n",
    "\n",
    "print ('Test Score: ', score[0])\n",
    "print ('Test Accuracy: ',score[1])"
   ]
  },
  {
   "cell_type": "code",
   "execution_count": 20,
   "metadata": {},
   "outputs": [
    {
     "data": {
      "image/png": "[encoded data removed]",
      "text/plain": [
       "<Figure size 432x288 with 1 Axes>"
      ]
     },
     "metadata": {},
     "output_type": "display_data"
    },
    {
     "data": {
      "image/png": "[encoded data removed]",
      "text/plain": [
       "<Figure size 432x288 with 1 Axes>"
      ]
     },
     "metadata": {},
     "output_type": "display_data"
    }
   ],
   "source": [
    "import matplotlib.pyplot as plt\n",
    "\n",
    "plt.plot(history.history['acc'])\n",
    "plt.plot(history.history['val_acc'])\n",
    "plt.title('model accuracy')\n",
    "plt.ylabel('accuracy')\n",
    "plt.xlabel('epoch')\n",
    "plt.legend(['train', 'test'], loc='upper left')\n",
    "plt.show()\n",
    "# summarize history for loss\n",
    "plt.plot(history.history['loss'])\n",
    "plt.plot(history.history['val_loss'])\n",
    "plt.title('model loss')\n",
    "plt.ylabel('loss')\n",
    "plt.xlabel('epoch')\n",
    "plt.legend(['train', 'test'], loc='upper left')\n",
    "plt.show()"
   ]
  },
  {
   "cell_type": "code",
   "execution_count": 21,
   "metadata": {},
   "outputs": [
    {
     "data": {
      "image/png": "[encoded data removed]",
      "text/plain": [
       "<Figure size 432x288 with 1 Axes>"
      ]
     },
     "metadata": {},
     "output_type": "display_data"
    },
    {
     "data": {
      "image/png": "[encoded data removed]",
      "text/plain": [
       "<Figure size 432x288 with 1 Axes>"
      ]
     },
     "metadata": {},
     "output_type": "display_data"
    }
   ],
   "source": [
    "acc = history.history['acc']\n",
    "val_acc = history.history['val_acc']\n",
    "loss = history.history['loss']\n",
    "val_loss = history.history['val_loss']\n",
    "\n",
    "epochs = range(len(acc))\n",
    "\n",
    "plt.plot(epochs, acc, 'bo', label='Training acc')\n",
    "plt.plot(epochs, val_acc, 'b', label='Validation acc')\n",
    "plt.title('Training and validation accuracy')\n",
    "plt.legend()\n",
    "\n",
    "plt.figure()\n",
    "\n",
    "plt.plot(epochs, loss, 'bo', label='Training loss')\n",
    "plt.plot(epochs, val_loss, 'b', label='Validation loss')\n",
    "plt.title('Training and validation loss')\n",
    "plt.legend()\n",
    "\n",
    "plt.show()\n"
   ]
  },
  {
   "cell_type": "code",
   "execution_count": 22,
   "metadata": {},
   "outputs": [
    {
     "data": {
      "image/png": "[encoded data removed]",
      "text/plain": [
       "<Figure size 432x288 with 1 Axes>"
      ]
     },
     "metadata": {},
     "output_type": "display_data"
    }
   ],
   "source": [
    "import numpy as np\n",
    "plt.figure(1)\n",
    "plt.plot(history.history['loss'],'r')\n",
    "plt.plot(history.history['val_loss'],'g')\n",
    "plt.rcParams['figure.figsize'] = (8, 6)\n",
    "plt.xlabel(\"Num of Epochs\")\n",
    "plt.ylabel(\"Loss\")\n",
    "plt.title(\"Training Loss vs Validation Loss\")\n",
    "plt.legend(['train','validation'])\n",
    "\n",
    "plt.show()"
   ]
  },
  {
   "cell_type": "code",
   "execution_count": 23,
   "metadata": {},
   "outputs": [],
   "source": [
    "filename = validation_generator.filenames\n",
    "truth = validation_generator.classes\n",
    "label = validation_generator.class_indices\n",
    "indexlabel = dict((value, key) for key, value in label.items())"
   ]
  },
  {
   "cell_type": "code",
   "execution_count": 24,
   "metadata": {},
   "outputs": [
    {
     "name": "stdout",
     "output_type": "stream",
     "text": [
      "1/0 [================================================================================================================================================================================================================================================] - 1s 963ms/step\n",
      "No of errors = 3/4\n"
     ]
    }
   ],
   "source": [
    "predicts = model.predict_generator(validation_generator, steps=validation_generator.samples/validation_generator.batch_size, verbose=1)\n",
    "predict_class = np.argmax(predicts, axis=1)\n",
    "errors = np.where(predict_class != truth)[0]\n",
    "print(\"No of errors = {}/{}\".format(len(errors),validation_generator.samples))"
   ]
  },
  {
   "cell_type": "code",
   "execution_count": 25,
   "metadata": {},
   "outputs": [
    {
     "name": "stdout",
     "output_type": "stream",
     "text": [
      "Confusion Matrix\n",
      "[[0 1 0 0]\n",
      " [0 1 0 0]\n",
      " [0 0 0 1]\n",
      " [0 1 0 0]]\n"
     ]
    },
    {
     "data": {
      "image/png": "[encoded data removed]",
      "text/plain": [
       "<Figure size 720x720 with 2 Axes>"
      ]
     },
     "metadata": {},
     "output_type": "display_data"
    }
   ],
   "source": [
    "from sklearn.metrics import confusion_matrix\n",
    "cm = confusion_matrix(truth,predict_class)\n",
    "\n",
    "labels = []\n",
    "for k,v in indexlabel.items():\n",
    "    labels.append(v)\n",
    "    \n",
    "import itertools\n",
    "def plot_confusion_matrix(cm, classes,\n",
    "                          normalize=False,\n",
    "                          title='Confusion Matrix',\n",
    "                          cmap=plt.cm.Blues):\n",
    "    \"\"\"\n",
    "    This function prints and plots the confusion matrix.\n",
    "    Normalization can be applied by setting `normalize=True`.\n",
    "    \"\"\"\n",
    "    if normalize:\n",
    "        cm = cm.astype('float') / cm.sum(axis=1)[:, np.newaxis]\n",
    "        print(\"Normalized confusion matrix\")\n",
    "    else:\n",
    "        print('Confusion Matrix')\n",
    "\n",
    "    print(cm)\n",
    "\n",
    "    plt.imshow(cm, interpolation='nearest', cmap=cmap)\n",
    "    plt.title(title)\n",
    "    plt.colorbar()\n",
    "    tick_marks = np.arange(len(classes))\n",
    "    plt.xticks(tick_marks, classes, rotation=45)\n",
    "    plt.yticks(tick_marks, classes)\n",
    "\n",
    "    fmt = '.2f' if normalize else 'd'\n",
    "    thresh = cm.max() / 2.\n",
    "    for i, j in itertools.product(range(cm.shape[0]), range(cm.shape[1])):\n",
    "        plt.text(j, i, format(cm[i, j], fmt),\n",
    "                 horizontalalignment=\"center\",\n",
    "                 color=\"white\" if cm[i, j] > thresh else \"black\")\n",
    "\n",
    "    plt.tight_layout()\n",
    "    plt.ylabel('True label')\n",
    "    plt.xlabel('Predicted label')\n",
    "    \n",
    "\n",
    "plt.figure(figsize=(10,10))\n",
    "plot_confusion_matrix(cm, classes=labels,\n",
    "                      title='Confusion Matrix')"
   ]
  },
  {
   "cell_type": "code",
   "execution_count": 26,
   "metadata": {},
   "outputs": [],
   "source": [
    "from sklearn.metrics import classification_report, accuracy_score, roc_auc_score \n",
    "\n",
    "#and reports metrics with classification_report method\n",
    "def predict_and_report(gen, model):\n",
    "    y_true = []\n",
    "    y_pred = []\n",
    "    gen.reset()\n",
    "    for img, label in gen:\n",
    "        #get true labels for batch and store them\n",
    "        y_true.extend([int(z[1]) for z in label])\n",
    "        #Get predictions as probabilities\n",
    "        batch_pred = model.predict_on_batch(img)\n",
    "        #turn probabilities to class labels and store\n",
    "        batch_pred = np.argmax(batch_pred, axis=1)\n",
    "        y_pred.extend(batch_pred)\n",
    "        #break loop\n",
    "        if gen.batch_index == 0:\n",
    "            break\n",
    "            \n",
    "    print('Accuracy:', accuracy_score(y_true, y_pred))\n",
    "    print('Area Under the Receiver Operating Characteristic Curve:', roc_auc_score(y_true, y_pred)) #Area under the curve\n",
    "    print(classification_report(y_true, y_pred))"
   ]
  },
  {
   "cell_type": "code",
   "execution_count": 27,
   "metadata": {},
   "outputs": [
    {
     "name": "stdout",
     "output_type": "stream",
     "text": [
      "Accuracy: 0.25\n",
      "Area Under the Receiver Operating Characteristic Curve: 0.33333333333333337\n",
      "             precision    recall  f1-score   support\n",
      "\n",
      "          0       0.00      0.00      0.00        18\n",
      "          1       0.33      1.00      0.50         6\n",
      "          3       0.00      0.00      0.00         0\n",
      "\n",
      "avg / total       0.08      0.25      0.12        24\n",
      "\n"
     ]
    },
    {
     "name": "stderr",
     "output_type": "stream",
     "text": [
      "/home/sara/anaconda3/lib/python3.6/site-packages/sklearn/metrics/classification.py:1135: UndefinedMetricWarning: Precision and F-score are ill-defined and being set to 0.0 in labels with no predicted samples.\n",
      "  'precision', 'predicted', average, warn_for)\n",
      "/home/sara/anaconda3/lib/python3.6/site-packages/sklearn/metrics/classification.py:1137: UndefinedMetricWarning: Recall and F-score are ill-defined and being set to 0.0 in labels with no true samples.\n",
      "  'recall', 'true', average, warn_for)\n"
     ]
    }
   ],
   "source": [
    "predict_and_report(train_generator, model)"
   ]
  },
  {
   "cell_type": "code",
   "execution_count": 28,
   "metadata": {},
   "outputs": [
    {
     "name": "stdout",
     "output_type": "stream",
     "text": [
      "Accuracy: 0.25\n",
      "Area Under the Receiver Operating Characteristic Curve: 0.33333333333333337\n",
      "             precision    recall  f1-score   support\n",
      "\n",
      "          0       0.00      0.00      0.00         3\n",
      "          1       0.33      1.00      0.50         1\n",
      "          3       0.00      0.00      0.00         0\n",
      "\n",
      "avg / total       0.08      0.25      0.12         4\n",
      "\n"
     ]
    },
    {
     "name": "stderr",
     "output_type": "stream",
     "text": [
      "/home/sara/anaconda3/lib/python3.6/site-packages/sklearn/metrics/classification.py:1135: UndefinedMetricWarning: Precision and F-score are ill-defined and being set to 0.0 in labels with no predicted samples.\n",
      "  'precision', 'predicted', average, warn_for)\n",
      "/home/sara/anaconda3/lib/python3.6/site-packages/sklearn/metrics/classification.py:1137: UndefinedMetricWarning: Recall and F-score are ill-defined and being set to 0.0 in labels with no true samples.\n",
      "  'recall', 'true', average, warn_for)\n"
     ]
    }
   ],
   "source": [
    "predict_and_report(validation_generator, model)"
   ]
  },
  {
   "cell_type": "code",
   "execution_count": 29,
   "metadata": {},
   "outputs": [
    {
     "data": {
      "text/plain": [
       "0.5416666865348816"
      ]
     },
     "execution_count": 29,
     "metadata": {},
     "output_type": "execute_result"
    }
   ],
   "source": [
    "best_train_acc = max(history.history['acc'])\n",
    "best_train_acc"
   ]
  },
  {
   "cell_type": "code",
   "execution_count": 30,
   "metadata": {},
   "outputs": [
    {
     "data": {
      "text/plain": [
       "0.2916666567325592"
      ]
     },
     "execution_count": 30,
     "metadata": {},
     "output_type": "execute_result"
    }
   ],
   "source": [
    "last_train_acc = history.history['acc'][-1]\n",
    "last_train_acc"
   ]
  },
  {
   "cell_type": "code",
   "execution_count": 31,
   "metadata": {},
   "outputs": [],
   "source": [
    "model.save('models/3.LeNet2-Adam-Model.h5')\n",
    "model.save_weights('models/3.LeNet2-Adam-Weights.h5')"
   ]
  },
  {
   "cell_type": "code",
   "execution_count": null,
   "metadata": {},
   "outputs": [],
   "source": []
  }
 ],
 "metadata": {
  "kernelspec": {
   "display_name": "Python 3",
   "language": "python",
   "name": "python3"
  },
  "language_info": {
   "codemirror_mode": {
    "name": "ipython",
    "version": 3
   },
   "file_extension": ".py",
   "mimetype": "text/x-python",
   "name": "python",
   "nbconvert_exporter": "python",
   "pygments_lexer": "ipython3",
   "version": "3.6.5"
  }
 },
 "nbformat": 4,
 "nbformat_minor": 2
}
