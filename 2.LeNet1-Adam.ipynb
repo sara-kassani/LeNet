{
 "cells": [
  {
   "cell_type": "code",
   "execution_count": 1,
   "metadata": {},
   "outputs": [
    {
     "name": "stderr",
     "output_type": "stream",
     "text": [
      "/home/sara/anaconda3/lib/python3.6/importlib/_bootstrap.py:219: RuntimeWarning: numpy.dtype size changed, may indicate binary incompatibility. Expected 96, got 88\n",
      "  return f(*args, **kwds)\n",
      "/home/sara/anaconda3/lib/python3.6/site-packages/h5py/__init__.py:36: FutureWarning: Conversion of the second argument of issubdtype from `float` to `np.floating` is deprecated. In future, it will be treated as `np.float64 == np.dtype(float).type`.\n",
      "  from ._conv import register_converters as _register_converters\n",
      "/home/sara/anaconda3/lib/python3.6/importlib/_bootstrap.py:219: RuntimeWarning: numpy.dtype size changed, may indicate binary incompatibility. Expected 96, got 88\n",
      "  return f(*args, **kwds)\n",
      "/home/sara/anaconda3/lib/python3.6/importlib/_bootstrap.py:219: RuntimeWarning: numpy.dtype size changed, may indicate binary incompatibility. Expected 96, got 88\n",
      "  return f(*args, **kwds)\n"
     ]
    },
    {
     "name": "stdout",
     "output_type": "stream",
     "text": [
      "[name: \"/device:CPU:0\"\n",
      "device_type: \"CPU\"\n",
      "memory_limit: 268435456\n",
      "locality {\n",
      "}\n",
      "incarnation: 12191018506919164242\n",
      "]\n"
     ]
    },
    {
     "name": "stderr",
     "output_type": "stream",
     "text": [
      "/home/sara/anaconda3/lib/python3.6/importlib/_bootstrap.py:219: RuntimeWarning: numpy.dtype size changed, may indicate binary incompatibility. Expected 96, got 88\n",
      "  return f(*args, **kwds)\n"
     ]
    }
   ],
   "source": [
    "from tensorflow.python.client import device_lib\n",
    "print(device_lib.list_local_devices())"
   ]
  },
  {
   "cell_type": "code",
   "execution_count": 2,
   "metadata": {},
   "outputs": [
    {
     "name": "stdout",
     "output_type": "stream",
     "text": [
      "\n"
     ]
    }
   ],
   "source": [
    "import tensorflow as tf\n",
    "print(tf.test.gpu_device_name())\n",
    "# See https://www.tensorflow.org/tutorials/using_gpu#allowing_gpu_memory_growth\n",
    "config = tf.ConfigProto()\n",
    "config.gpu_options.allow_growth = True\n"
   ]
  },
  {
   "cell_type": "code",
   "execution_count": 3,
   "metadata": {},
   "outputs": [
    {
     "name": "stderr",
     "output_type": "stream",
     "text": [
      "Using TensorFlow backend.\n",
      "/home/sara/anaconda3/lib/python3.6/importlib/_bootstrap.py:219: RuntimeWarning: numpy.dtype size changed, may indicate binary incompatibility. Expected 96, got 88\n",
      "  return f(*args, **kwds)\n",
      "/home/sara/anaconda3/lib/python3.6/importlib/_bootstrap.py:219: RuntimeWarning: numpy.dtype size changed, may indicate binary incompatibility. Expected 96, got 88\n",
      "  return f(*args, **kwds)\n"
     ]
    }
   ],
   "source": [
    "import os\n",
    "import tensorflow as tf\n",
    "from keras.models import Model\n",
    "from keras.layers.core import Activation, Flatten, Dense, Dropout\n",
    "from keras.layers.convolutional import Conv2D\n",
    "from keras.layers.pooling import MaxPooling2D\n",
    "from keras.layers import Input\n",
    "from keras.layers.normalization import BatchNormalization\n",
    "from keras.models import Sequential\n",
    "from keras.layers import Dense, Dropout, Activation, Flatten, Conv2D, MaxPooling2D\n",
    "from keras.applications.xception import Xception, preprocess_input\n",
    "from keras.regularizers import l2\n",
    "from keras.models import *\n",
    "from keras.layers import *\n",
    "from keras.optimizers import *\n",
    "import tflearn\n",
    "import numpy as np\n",
    "from tflearn.layers.conv import conv_2d, max_pool_2d\n",
    "from tflearn.layers.core import input_data, dropout, fully_connected\n",
    "from tflearn.layers.normalization import local_response_normalization\n",
    "from alexnet_additional_layers import split_tensor, cross_channel_normalization\n",
    "from decode_predictions import decode_classnames_json, decode_classnumber\n",
    "from keras.preprocessing.image import ImageDataGenerator\n",
    "from keras.callbacks import ModelCheckpoint\n",
    "import matplotlib.pyplot as plt\n",
    "\n",
    "from Eve import Eve\n",
    "\n",
    "%matplotlib inline"
   ]
  },
  {
   "cell_type": "markdown",
   "metadata": {},
   "source": [
    "___"
   ]
  },
  {
   "cell_type": "code",
   "execution_count": 4,
   "metadata": {},
   "outputs": [],
   "source": [
    "train_dir = 'data/Reinhard'"
   ]
  },
  {
   "cell_type": "code",
   "execution_count": 5,
   "metadata": {},
   "outputs": [
    {
     "name": "stdout",
     "output_type": "stream",
     "text": [
      "data/training 0\n",
      "data/training/Invasive 7\n",
      "data/training/Normal 7\n",
      "data/training/InSitu 7\n",
      "data/training/Benign 7\n"
     ]
    }
   ],
   "source": [
    "for root,dirs,files in os.walk(train_dir):\n",
    "    print (root, len(files))"
   ]
  },
  {
   "cell_type": "code",
   "execution_count": 6,
   "metadata": {},
   "outputs": [],
   "source": [
    "target_size = (256, 256)\n",
    "img_rows, img_cols = (256, 256)\n",
    "nb_classes = 4"
   ]
  },
  {
   "cell_type": "code",
   "execution_count": 7,
   "metadata": {},
   "outputs": [
    {
     "name": "stdout",
     "output_type": "stream",
     "text": [
      "Found 24 images belonging to 4 classes.\n",
      "Found 4 images belonging to 4 classes.\n"
     ]
    }
   ],
   "source": [
    "from keras.preprocessing.image import ImageDataGenerator\n",
    "\n",
    "# this is the augmentation configuration we will use for training\n",
    "train_datagen = ImageDataGenerator(\n",
    "    rescale=1. / 255,\n",
    "    shear_range=0.2,\n",
    "    zoom_range=0.2,\n",
    "        width_shift_range=0.2,\n",
    "        height_shift_range=0.2,\n",
    "        fill_mode='nearest',\n",
    "    horizontal_flip=True,\n",
    "    validation_split=0.25)\n",
    "\n",
    "# this is the augmentation configuration we will use for testing:\n",
    "# only rescaling\n",
    "test_datagen = ImageDataGenerator(rescale=1. / 255)\n",
    "\n",
    "\n",
    "#target_size: Tuple of integers (height, width), default: (256, 256). \n",
    "#The dimensions to which all images found will be resized.\n",
    "\n",
    "#target_size = (height, width)\n",
    "train_generator = train_datagen.flow_from_directory(\n",
    "        train_dir,\n",
    "        target_size = target_size,       \n",
    "        class_mode = 'categorical',\n",
    "        batch_size=32,\n",
    "        subset=\"training\",\n",
    "        shuffle = True)\n",
    "\n",
    "validation_generator = train_datagen.flow_from_directory(\n",
    "        train_dir,\n",
    "        target_size = target_size,        \n",
    "        class_mode = 'categorical',\n",
    "        batch_size=32,\n",
    "        subset = \"validation\",\n",
    "        shuffle = True)"
   ]
  },
  {
   "cell_type": "code",
   "execution_count": 8,
   "metadata": {},
   "outputs": [],
   "source": [
    "## Intilizing variables\n",
    "output_classes = 4\n",
    "batch_size = 32 \n",
    "epochs = 30\n",
    "\n",
    "sgd_opt = SGD(lr=1E-2, decay=1E-4, momentum=0.9, nesterov=True)\n",
    "adam_opt = Adam(lr=1E-4, beta_1=0.9, beta_2=0.999, epsilon=1e-08, decay=1E-4)\n",
    "eve_opt = Eve(lr=1E-4, decay=1E-4, beta_1=0.9, beta_2=0.999, beta_3=0.999, small_k=0.1, big_K=10, epsilon=1e-08)"
   ]
  },
  {
   "cell_type": "code",
   "execution_count": 9,
   "metadata": {},
   "outputs": [],
   "source": [
    "def Lenet1():\n",
    "    x_input = Input(shape=(img_rows, img_cols, 3), name=\"input\")\n",
    "    x = Conv2D(filters = 6, kernel_size = (5,5), strides = (1,1), padding = \"valid\", kernel_initializer='glorot_uniform')(x_input)\n",
    "    x = Activation(\"relu\")(x)\n",
    "    x = AveragePooling2D(pool_size = (2,2), strides = (2,2))(x)\n",
    "    x = Conv2D(filters = 16, kernel_size = (5,5), strides = (1,1), padding = \"valid\", name = \"conv_1\",kernel_initializer='glorot_uniform')(x)\n",
    "    x = Activation(\"relu\")(x)\n",
    "    x = AveragePooling2D(pool_size = (2,2), strides = (2,2))(x)\n",
    "    x = Flatten()(x)\n",
    "    x = Dense(120, activation = \"relu\")(x)\n",
    "    x = Dropout(rate = 0.5)(x)\n",
    "    x = Dense(120, activation =\"relu\")(x)\n",
    "    x = Dropout(rate = 0.5)(x)\n",
    "    predictions = Dense(nb_classes, activation=\"softmax\")(x)\n",
    "    Lenet1 = Model(inputs=[x_input], outputs = [predictions])\n",
    "    \n",
    "    return Lenet1"
   ]
  },
  {
   "cell_type": "code",
   "execution_count": 10,
   "metadata": {},
   "outputs": [],
   "source": [
    "model = Lenet1()\n",
    "model.compile(loss = 'categorical_crossentropy',\n",
    "              optimizer = adam_opt,\n",
    "              metrics = ['accuracy'])"
   ]
  },
  {
   "cell_type": "code",
   "execution_count": 11,
   "metadata": {},
   "outputs": [
    {
     "data": {
      "text/plain": [
       "24"
      ]
     },
     "execution_count": 11,
     "metadata": {},
     "output_type": "execute_result"
    }
   ],
   "source": [
    "num_train_samples= len(train_generator.filenames)\n",
    "num_train_samples"
   ]
  },
  {
   "cell_type": "code",
   "execution_count": 12,
   "metadata": {},
   "outputs": [
    {
     "data": {
      "text/plain": [
       "4"
      ]
     },
     "execution_count": 12,
     "metadata": {},
     "output_type": "execute_result"
    }
   ],
   "source": [
    "num_val_samples= len(validation_generator.filenames)\n",
    "num_val_samples"
   ]
  },
  {
   "cell_type": "code",
   "execution_count": 13,
   "metadata": {},
   "outputs": [
    {
     "name": "stdout",
     "output_type": "stream",
     "text": [
      "Epoch 1/30\n",
      "1/1 [==============================] - 4s 4s/step - loss: 1.4363 - acc: 0.1667 - val_loss: 1.5119 - val_acc: 0.2500\n",
      "Epoch 2/30\n",
      "1/1 [==============================] - 2s 2s/step - loss: 1.8583 - acc: 0.2917 - val_loss: 1.4603 - val_acc: 0.2500\n",
      "Epoch 3/30\n",
      "1/1 [==============================] - 2s 2s/step - loss: 1.8843 - acc: 0.2083 - val_loss: 1.4162 - val_acc: 0.2500\n",
      "Epoch 4/30\n",
      "1/1 [==============================] - 2s 2s/step - loss: 1.5354 - acc: 0.2917 - val_loss: 1.3987 - val_acc: 0.2500\n",
      "Epoch 5/30\n",
      "1/1 [==============================] - 2s 2s/step - loss: 1.6502 - acc: 0.1667 - val_loss: 1.3917 - val_acc: 0.2500\n",
      "Epoch 6/30\n",
      "1/1 [==============================] - 2s 2s/step - loss: 1.7336 - acc: 0.1667 - val_loss: 1.3749 - val_acc: 0.2500\n",
      "Epoch 7/30\n",
      "1/1 [==============================] - 2s 2s/step - loss: 1.5975 - acc: 0.2083 - val_loss: 1.3826 - val_acc: 0.2500\n",
      "Epoch 8/30\n",
      "1/1 [==============================] - 2s 2s/step - loss: 1.7239 - acc: 0.2083 - val_loss: 1.3949 - val_acc: 0.2500\n",
      "Epoch 9/30\n",
      "1/1 [==============================] - 2s 2s/step - loss: 1.7729 - acc: 0.0833 - val_loss: 1.3830 - val_acc: 0.2500\n",
      "Epoch 10/30\n",
      "1/1 [==============================] - 2s 2s/step - loss: 1.4398 - acc: 0.2500 - val_loss: 1.3909 - val_acc: 0.2500\n",
      "Epoch 11/30\n",
      "1/1 [==============================] - 2s 2s/step - loss: 1.3823 - acc: 0.3333 - val_loss: 1.3892 - val_acc: 0.2500\n",
      "Epoch 12/30\n",
      "1/1 [==============================] - 2s 2s/step - loss: 1.4130 - acc: 0.2083 - val_loss: 1.3847 - val_acc: 0.2500\n",
      "Epoch 13/30\n",
      "1/1 [==============================] - 2s 2s/step - loss: 1.4414 - acc: 0.1667 - val_loss: 1.3810 - val_acc: 0.2500\n",
      "Epoch 14/30\n",
      "1/1 [==============================] - 1s 1s/step - loss: 1.4721 - acc: 0.2083 - val_loss: 1.3813 - val_acc: 0.2500\n",
      "Epoch 15/30\n",
      "1/1 [==============================] - 1s 1s/step - loss: 1.4044 - acc: 0.2917 - val_loss: 1.3790 - val_acc: 0.2500\n",
      "Epoch 16/30\n",
      "1/1 [==============================] - 2s 2s/step - loss: 1.4809 - acc: 0.2500 - val_loss: 1.3805 - val_acc: 0.2500\n",
      "Epoch 17/30\n",
      "1/1 [==============================] - 2s 2s/step - loss: 1.3834 - acc: 0.3750 - val_loss: 1.3799 - val_acc: 0.2500\n",
      "Epoch 18/30\n",
      "1/1 [==============================] - 2s 2s/step - loss: 1.3527 - acc: 0.3333 - val_loss: 1.3835 - val_acc: 0.2500\n",
      "Epoch 19/30\n",
      "1/1 [==============================] - 2s 2s/step - loss: 1.4034 - acc: 0.1667 - val_loss: 1.3798 - val_acc: 0.2500\n",
      "Epoch 20/30\n",
      "1/1 [==============================] - 2s 2s/step - loss: 1.3616 - acc: 0.2917 - val_loss: 1.3797 - val_acc: 0.2500\n",
      "Epoch 21/30\n",
      "1/1 [==============================] - 2s 2s/step - loss: 1.5101 - acc: 0.1667 - val_loss: 1.3846 - val_acc: 0.2500\n",
      "Epoch 22/30\n",
      "1/1 [==============================] - 2s 2s/step - loss: 1.4093 - acc: 0.1250 - val_loss: 1.3834 - val_acc: 0.2500\n",
      "Epoch 23/30\n",
      "1/1 [==============================] - 2s 2s/step - loss: 1.3815 - acc: 0.3333 - val_loss: 1.3841 - val_acc: 0.2500\n",
      "Epoch 24/30\n",
      "1/1 [==============================] - 2s 2s/step - loss: 1.4145 - acc: 0.1667 - val_loss: 1.3815 - val_acc: 0.5000\n",
      "Epoch 25/30\n",
      "1/1 [==============================] - 2s 2s/step - loss: 1.4295 - acc: 0.1667 - val_loss: 1.3844 - val_acc: 0.5000\n",
      "Epoch 26/30\n",
      "1/1 [==============================] - 2s 2s/step - loss: 1.3913 - acc: 0.2917 - val_loss: 1.3854 - val_acc: 0.2500\n",
      "Epoch 27/30\n",
      "1/1 [==============================] - 2s 2s/step - loss: 1.3781 - acc: 0.2500 - val_loss: 1.3837 - val_acc: 0.2500\n",
      "Epoch 28/30\n",
      "1/1 [==============================] - 2s 2s/step - loss: 1.4238 - acc: 0.2500 - val_loss: 1.3859 - val_acc: 0.2500\n",
      "Epoch 29/30\n",
      "1/1 [==============================] - 2s 2s/step - loss: 1.3853 - acc: 0.1667 - val_loss: 1.3810 - val_acc: 0.2500\n",
      "Epoch 30/30\n",
      "1/1 [==============================] - 2s 2s/step - loss: 1.3673 - acc: 0.2917 - val_loss: 1.3856 - val_acc: 0.2500\n"
     ]
    }
   ],
   "source": [
    "history = model.fit_generator(train_generator,\n",
    "        steps_per_epoch =int(np.ceil(num_train_samples * 1.0 / batch_size)),\n",
    "        epochs = epochs,\n",
    "        validation_data = validation_generator,\n",
    "        validation_steps=int(np.ceil(num_val_samples * 1.0 / batch_size)))"
   ]
  },
  {
   "cell_type": "code",
   "execution_count": 14,
   "metadata": {},
   "outputs": [
    {
     "name": "stdout",
     "output_type": "stream",
     "text": [
      "dict_keys(['val_loss', 'val_acc', 'loss', 'acc'])\n"
     ]
    }
   ],
   "source": [
    "print(history.history.keys())"
   ]
  },
  {
   "cell_type": "code",
   "execution_count": 15,
   "metadata": {},
   "outputs": [
    {
     "data": {
      "text/plain": [
       "[1.5118937492370605,\n",
       " 1.4603071212768555,\n",
       " 1.4161961078643799,\n",
       " 1.3986992835998535,\n",
       " 1.3916916847229004,\n",
       " 1.374861240386963,\n",
       " 1.382645845413208,\n",
       " 1.3949456214904785,\n",
       " 1.3830090761184692,\n",
       " 1.390916347503662,\n",
       " 1.3891957998275757,\n",
       " 1.3846759796142578,\n",
       " 1.3810285329818726,\n",
       " 1.3812892436981201,\n",
       " 1.3789751529693604,\n",
       " 1.3805378675460815,\n",
       " 1.3798788785934448,\n",
       " 1.3835394382476807,\n",
       " 1.3798110485076904,\n",
       " 1.3797210454940796,\n",
       " 1.3845716714859009,\n",
       " 1.3833601474761963,\n",
       " 1.3840882778167725,\n",
       " 1.3814939260482788,\n",
       " 1.384401559829712,\n",
       " 1.3853914737701416,\n",
       " 1.3837153911590576,\n",
       " 1.3858522176742554,\n",
       " 1.3809579610824585,\n",
       " 1.385606050491333]"
      ]
     },
     "execution_count": 15,
     "metadata": {},
     "output_type": "execute_result"
    }
   ],
   "source": [
    "history.history[\"val_loss\"]"
   ]
  },
  {
   "cell_type": "code",
   "execution_count": 16,
   "metadata": {},
   "outputs": [
    {
     "data": {
      "text/plain": [
       "[0.25,\n",
       " 0.25,\n",
       " 0.25,\n",
       " 0.25,\n",
       " 0.25,\n",
       " 0.25,\n",
       " 0.25,\n",
       " 0.25,\n",
       " 0.25,\n",
       " 0.25,\n",
       " 0.25,\n",
       " 0.25,\n",
       " 0.25,\n",
       " 0.25,\n",
       " 0.25,\n",
       " 0.25,\n",
       " 0.25,\n",
       " 0.25,\n",
       " 0.25,\n",
       " 0.25,\n",
       " 0.25,\n",
       " 0.25,\n",
       " 0.25,\n",
       " 0.5,\n",
       " 0.5,\n",
       " 0.25,\n",
       " 0.25,\n",
       " 0.25,\n",
       " 0.25,\n",
       " 0.25]"
      ]
     },
     "execution_count": 16,
     "metadata": {},
     "output_type": "execute_result"
    }
   ],
   "source": [
    "history.history[\"val_acc\"]"
   ]
  },
  {
   "cell_type": "code",
   "execution_count": 17,
   "metadata": {},
   "outputs": [
    {
     "data": {
      "text/plain": [
       "[1.4362564086914062,\n",
       " 1.8583430051803589,\n",
       " 1.8843055963516235,\n",
       " 1.535445213317871,\n",
       " 1.6502481698989868,\n",
       " 1.7336446046829224,\n",
       " 1.5975269079208374,\n",
       " 1.7239004373550415,\n",
       " 1.7728782892227173,\n",
       " 1.4398313760757446,\n",
       " 1.3822685480117798,\n",
       " 1.4130007028579712,\n",
       " 1.4414095878601074,\n",
       " 1.4721254110336304,\n",
       " 1.4044164419174194,\n",
       " 1.480918049812317,\n",
       " 1.383376121520996,\n",
       " 1.352687954902649,\n",
       " 1.4033552408218384,\n",
       " 1.361562728881836,\n",
       " 1.5100927352905273,\n",
       " 1.4093347787857056,\n",
       " 1.3814654350280762,\n",
       " 1.4145197868347168,\n",
       " 1.4294997453689575,\n",
       " 1.3912707567214966,\n",
       " 1.3781275749206543,\n",
       " 1.423815131187439,\n",
       " 1.385339379310608,\n",
       " 1.3673442602157593]"
      ]
     },
     "execution_count": 17,
     "metadata": {},
     "output_type": "execute_result"
    }
   ],
   "source": [
    "history.history[\"loss\"]"
   ]
  },
  {
   "cell_type": "code",
   "execution_count": 18,
   "metadata": {},
   "outputs": [
    {
     "data": {
      "text/plain": [
       "[0.1666666716337204,\n",
       " 0.2916666567325592,\n",
       " 0.2083333283662796,\n",
       " 0.2916666567325592,\n",
       " 0.1666666716337204,\n",
       " 0.1666666716337204,\n",
       " 0.2083333283662796,\n",
       " 0.2083333283662796,\n",
       " 0.0833333358168602,\n",
       " 0.25,\n",
       " 0.3333333432674408,\n",
       " 0.2083333283662796,\n",
       " 0.1666666716337204,\n",
       " 0.2083333283662796,\n",
       " 0.2916666567325592,\n",
       " 0.25,\n",
       " 0.375,\n",
       " 0.3333333432674408,\n",
       " 0.1666666716337204,\n",
       " 0.2916666567325592,\n",
       " 0.1666666716337204,\n",
       " 0.125,\n",
       " 0.3333333432674408,\n",
       " 0.1666666716337204,\n",
       " 0.1666666716337204,\n",
       " 0.2916666567325592,\n",
       " 0.25,\n",
       " 0.25,\n",
       " 0.1666666716337204,\n",
       " 0.2916666567325592]"
      ]
     },
     "execution_count": 18,
     "metadata": {},
     "output_type": "execute_result"
    }
   ],
   "source": [
    "history.history[\"acc\"]"
   ]
  },
  {
   "cell_type": "code",
   "execution_count": 19,
   "metadata": {},
   "outputs": [
    {
     "name": "stdout",
     "output_type": "stream",
     "text": [
      "Test Score:  1.383664608001709\n",
      "Test Accuracy:  0.25\n"
     ]
    }
   ],
   "source": [
    "score = model.evaluate_generator(validation_generator, steps=50)\n",
    "\n",
    "print ('Test Score: ', score[0])\n",
    "print ('Test Accuracy: ',score[1])"
   ]
  },
  {
   "cell_type": "code",
   "execution_count": 20,
   "metadata": {},
   "outputs": [
    {
     "data": {
      "image/png": "[encoded data removed]",
      "text/plain": [
       "<Figure size 432x288 with 1 Axes>"
      ]
     },
     "metadata": {},
     "output_type": "display_data"
    },
    {
     "data": {
      "image/png": "[encoded data removed]",
      "text/plain": [
       "<Figure size 432x288 with 1 Axes>"
      ]
     },
     "metadata": {},
     "output_type": "display_data"
    }
   ],
   "source": [
    "import matplotlib.pyplot as plt\n",
    "\n",
    "plt.plot(history.history['acc'])\n",
    "plt.plot(history.history['val_acc'])\n",
    "plt.title('model accuracy')\n",
    "plt.ylabel('accuracy')\n",
    "plt.xlabel('epoch')\n",
    "plt.legend(['train', 'test'], loc='upper left')\n",
    "plt.show()\n",
    "# summarize history for loss\n",
    "plt.plot(history.history['loss'])\n",
    "plt.plot(history.history['val_loss'])\n",
    "plt.title('model loss')\n",
    "plt.ylabel('loss')\n",
    "plt.xlabel('epoch')\n",
    "plt.legend(['train', 'test'], loc='upper left')\n",
    "plt.show()"
   ]
  },
  {
   "cell_type": "code",
   "execution_count": 21,
   "metadata": {},
   "outputs": [
    {
     "data": {
      "image/png": "[encoded data removed]",
      "text/plain": [
       "<Figure size 432x288 with 1 Axes>"
      ]
     },
     "metadata": {},
     "output_type": "display_data"
    },
    {
     "data": {
      "image/png": "[encoded data removed]",
      "text/plain": [
       "<Figure size 432x288 with 1 Axes>"
      ]
     },
     "metadata": {},
     "output_type": "display_data"
    }
   ],
   "source": [
    "acc = history.history['acc']\n",
    "val_acc = history.history['val_acc']\n",
    "loss = history.history['loss']\n",
    "val_loss = history.history['val_loss']\n",
    "\n",
    "epochs = range(len(acc))\n",
    "\n",
    "plt.plot(epochs, acc, 'bo', label='Training acc')\n",
    "plt.plot(epochs, val_acc, 'b', label='Validation acc')\n",
    "plt.title('Training and validation accuracy')\n",
    "plt.legend()\n",
    "\n",
    "plt.figure()\n",
    "\n",
    "plt.plot(epochs, loss, 'bo', label='Training loss')\n",
    "plt.plot(epochs, val_loss, 'b', label='Validation loss')\n",
    "plt.title('Training and validation loss')\n",
    "plt.legend()\n",
    "\n",
    "plt.show()\n"
   ]
  },
  {
   "cell_type": "code",
   "execution_count": 22,
   "metadata": {},
   "outputs": [
    {
     "data": {
      "image/png": "[encoded data removed]",
      "text/plain": [
       "<Figure size 432x288 with 1 Axes>"
      ]
     },
     "metadata": {},
     "output_type": "display_data"
    }
   ],
   "source": [
    "import numpy as np\n",
    "plt.figure(1)\n",
    "plt.plot(history.history['loss'],'r')\n",
    "plt.plot(history.history['val_loss'],'g')\n",
    "plt.rcParams['figure.figsize'] = (8, 6)\n",
    "plt.xlabel(\"Num of Epochs\")\n",
    "plt.ylabel(\"Loss\")\n",
    "plt.title(\"Training Loss vs Validation Loss\")\n",
    "plt.legend(['train','validation'])\n",
    "\n",
    "plt.show()"
   ]
  },
  {
   "cell_type": "code",
   "execution_count": 23,
   "metadata": {},
   "outputs": [],
   "source": [
    "filename = validation_generator.filenames\n",
    "truth = validation_generator.classes\n",
    "label = validation_generator.class_indices\n",
    "indexlabel = dict((value, key) for key, value in label.items())"
   ]
  },
  {
   "cell_type": "code",
   "execution_count": 24,
   "metadata": {},
   "outputs": [
    {
     "name": "stdout",
     "output_type": "stream",
     "text": [
      "1/0 [================================================================================================================================================================================================================================================] - 0s 344ms/step\n",
      "No of errors = 3/4\n"
     ]
    }
   ],
   "source": [
    "predicts = model.predict_generator(validation_generator, steps=validation_generator.samples/validation_generator.batch_size, verbose=1)\n",
    "predict_class = np.argmax(predicts, axis=1)\n",
    "errors = np.where(predict_class != truth)[0]\n",
    "print(\"No of errors = {}/{}\".format(len(errors),validation_generator.samples))"
   ]
  },
  {
   "cell_type": "code",
   "execution_count": 25,
   "metadata": {},
   "outputs": [
    {
     "name": "stdout",
     "output_type": "stream",
     "text": [
      "Confusion Matrix\n",
      "[[0 0 1 0]\n",
      " [0 0 1 0]\n",
      " [0 0 1 0]\n",
      " [0 0 1 0]]\n"
     ]
    },
    {
     "data": {
      "image/png": "[encoded data removed]",
      "text/plain": [
       "<Figure size 720x720 with 2 Axes>"
      ]
     },
     "metadata": {},
     "output_type": "display_data"
    }
   ],
   "source": [
    "from sklearn.metrics import confusion_matrix\n",
    "cm = confusion_matrix(truth,predict_class)\n",
    "\n",
    "labels = []\n",
    "for k,v in indexlabel.items():\n",
    "    labels.append(v)\n",
    "    \n",
    "import itertools\n",
    "def plot_confusion_matrix(cm, classes,\n",
    "                          normalize=False,\n",
    "                          title='Confusion Matrix',\n",
    "                          cmap=plt.cm.Blues):\n",
    "    \"\"\"\n",
    "    This function prints and plots the confusion matrix.\n",
    "    Normalization can be applied by setting `normalize=True`.\n",
    "    \"\"\"\n",
    "    if normalize:\n",
    "        cm = cm.astype('float') / cm.sum(axis=1)[:, np.newaxis]\n",
    "        print(\"Normalized confusion matrix\")\n",
    "    else:\n",
    "        print('Confusion Matrix')\n",
    "\n",
    "    print(cm)\n",
    "\n",
    "    plt.imshow(cm, interpolation='nearest', cmap=cmap)\n",
    "    plt.title(title)\n",
    "    plt.colorbar()\n",
    "    tick_marks = np.arange(len(classes))\n",
    "    plt.xticks(tick_marks, classes, rotation=45)\n",
    "    plt.yticks(tick_marks, classes)\n",
    "\n",
    "    fmt = '.2f' if normalize else 'd'\n",
    "    thresh = cm.max() / 2.\n",
    "    for i, j in itertools.product(range(cm.shape[0]), range(cm.shape[1])):\n",
    "        plt.text(j, i, format(cm[i, j], fmt),\n",
    "                 horizontalalignment=\"center\",\n",
    "                 color=\"white\" if cm[i, j] > thresh else \"black\")\n",
    "\n",
    "    plt.tight_layout()\n",
    "    plt.ylabel('True label')\n",
    "    plt.xlabel('Predicted label')\n",
    "    \n",
    "\n",
    "plt.figure(figsize=(10,10))\n",
    "plot_confusion_matrix(cm, classes=labels,\n",
    "                      title='Confusion Matrix')"
   ]
  },
  {
   "cell_type": "code",
   "execution_count": 26,
   "metadata": {},
   "outputs": [],
   "source": [
    "from sklearn.metrics import classification_report, accuracy_score, roc_auc_score \n",
    "\n",
    "#and reports metrics with classification_report method\n",
    "def predict_and_report(gen, model):\n",
    "    y_true = []\n",
    "    y_pred = []\n",
    "    gen.reset()\n",
    "    for img, label in gen:\n",
    "        #get true labels for batch and store them\n",
    "        y_true.extend([int(z[1]) for z in label])\n",
    "        #Get predictions as probabilities\n",
    "        batch_pred = model.predict_on_batch(img)\n",
    "        #turn probabilities to class labels and store\n",
    "        batch_pred = np.argmax(batch_pred, axis=1)\n",
    "        y_pred.extend(batch_pred)\n",
    "        #break loop\n",
    "        if gen.batch_index == 0:\n",
    "            break\n",
    "            \n",
    "    print('Accuracy:', accuracy_score(y_true, y_pred))\n",
    "    print('Area Under the Receiver Operating Characteristic Curve:', roc_auc_score(y_true, y_pred)) #Area under the curve\n",
    "    print(classification_report(y_true, y_pred))"
   ]
  },
  {
   "cell_type": "code",
   "execution_count": 27,
   "metadata": {},
   "outputs": [
    {
     "name": "stdout",
     "output_type": "stream",
     "text": [
      "Accuracy: 0.0\n",
      "Area Under the Receiver Operating Characteristic Curve: 0.5\n",
      "             precision    recall  f1-score   support\n",
      "\n",
      "          0       0.00      0.00      0.00        18\n",
      "          1       0.00      0.00      0.00         6\n",
      "          2       0.00      0.00      0.00         0\n",
      "\n",
      "avg / total       0.00      0.00      0.00        24\n",
      "\n"
     ]
    },
    {
     "name": "stderr",
     "output_type": "stream",
     "text": [
      "/home/sara/anaconda3/lib/python3.6/site-packages/sklearn/metrics/classification.py:1135: UndefinedMetricWarning: Precision and F-score are ill-defined and being set to 0.0 in labels with no predicted samples.\n",
      "  'precision', 'predicted', average, warn_for)\n",
      "/home/sara/anaconda3/lib/python3.6/site-packages/sklearn/metrics/classification.py:1137: UndefinedMetricWarning: Recall and F-score are ill-defined and being set to 0.0 in labels with no true samples.\n",
      "  'recall', 'true', average, warn_for)\n"
     ]
    }
   ],
   "source": [
    "predict_and_report(train_generator, model)"
   ]
  },
  {
   "cell_type": "code",
   "execution_count": 28,
   "metadata": {},
   "outputs": [
    {
     "name": "stdout",
     "output_type": "stream",
     "text": [
      "Accuracy: 0.0\n",
      "Area Under the Receiver Operating Characteristic Curve: 0.5\n",
      "             precision    recall  f1-score   support\n",
      "\n",
      "          0       0.00      0.00      0.00         3\n",
      "          1       0.00      0.00      0.00         1\n",
      "          2       0.00      0.00      0.00         0\n",
      "\n",
      "avg / total       0.00      0.00      0.00         4\n",
      "\n"
     ]
    },
    {
     "name": "stderr",
     "output_type": "stream",
     "text": [
      "/home/sara/anaconda3/lib/python3.6/site-packages/sklearn/metrics/classification.py:1135: UndefinedMetricWarning: Precision and F-score are ill-defined and being set to 0.0 in labels with no predicted samples.\n",
      "  'precision', 'predicted', average, warn_for)\n",
      "/home/sara/anaconda3/lib/python3.6/site-packages/sklearn/metrics/classification.py:1137: UndefinedMetricWarning: Recall and F-score are ill-defined and being set to 0.0 in labels with no true samples.\n",
      "  'recall', 'true', average, warn_for)\n"
     ]
    }
   ],
   "source": [
    "predict_and_report(validation_generator, model)"
   ]
  },
  {
   "cell_type": "code",
   "execution_count": 29,
   "metadata": {},
   "outputs": [
    {
     "data": {
      "text/plain": [
       "0.375"
      ]
     },
     "execution_count": 29,
     "metadata": {},
     "output_type": "execute_result"
    }
   ],
   "source": [
    "best_train_acc = max(history.history['acc'])\n",
    "best_train_acc"
   ]
  },
  {
   "cell_type": "code",
   "execution_count": 30,
   "metadata": {},
   "outputs": [
    {
     "data": {
      "text/plain": [
       "0.2916666567325592"
      ]
     },
     "execution_count": 30,
     "metadata": {},
     "output_type": "execute_result"
    }
   ],
   "source": [
    "last_train_acc = history.history['acc'][-1]\n",
    "last_train_acc"
   ]
  },
  {
   "cell_type": "code",
   "execution_count": 31,
   "metadata": {},
   "outputs": [],
   "source": [
    "model.save('models/2.LeNet1-Adam-Model.h5')\n",
    "model.save_weights('models/2.LeNet1-Adam-Weights.h5')"
   ]
  },
  {
   "cell_type": "code",
   "execution_count": null,
   "metadata": {},
   "outputs": [],
   "source": []
  }
 ],
 "metadata": {
  "kernelspec": {
   "display_name": "Python 3",
   "language": "python",
   "name": "python3"
  },
  "language_info": {
   "codemirror_mode": {
    "name": "ipython",
    "version": 3
   },
   "file_extension": ".py",
   "mimetype": "text/x-python",
   "name": "python",
   "nbconvert_exporter": "python",
   "pygments_lexer": "ipython3",
   "version": "3.6.5"
  }
 },
 "nbformat": 4,
 "nbformat_minor": 2
}
