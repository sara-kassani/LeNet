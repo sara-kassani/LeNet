{
 "cells": [
  {
   "cell_type": "code",
   "execution_count": 1,
   "metadata": {},
   "outputs": [
    {
     "name": "stderr",
     "output_type": "stream",
     "text": [
      "/home/sara/anaconda3/lib/python3.6/importlib/_bootstrap.py:219: RuntimeWarning: numpy.dtype size changed, may indicate binary incompatibility. Expected 96, got 88\n",
      "  return f(*args, **kwds)\n",
      "/home/sara/anaconda3/lib/python3.6/site-packages/h5py/__init__.py:36: FutureWarning: Conversion of the second argument of issubdtype from `float` to `np.floating` is deprecated. In future, it will be treated as `np.float64 == np.dtype(float).type`.\n",
      "  from ._conv import register_converters as _register_converters\n",
      "/home/sara/anaconda3/lib/python3.6/importlib/_bootstrap.py:219: RuntimeWarning: numpy.dtype size changed, may indicate binary incompatibility. Expected 96, got 88\n",
      "  return f(*args, **kwds)\n",
      "/home/sara/anaconda3/lib/python3.6/importlib/_bootstrap.py:219: RuntimeWarning: numpy.dtype size changed, may indicate binary incompatibility. Expected 96, got 88\n",
      "  return f(*args, **kwds)\n",
      "/home/sara/anaconda3/lib/python3.6/importlib/_bootstrap.py:219: RuntimeWarning: numpy.dtype size changed, may indicate binary incompatibility. Expected 96, got 88\n",
      "  return f(*args, **kwds)\n"
     ]
    },
    {
     "name": "stdout",
     "output_type": "stream",
     "text": [
      "[name: \"/device:CPU:0\"\n",
      "device_type: \"CPU\"\n",
      "memory_limit: 268435456\n",
      "locality {\n",
      "}\n",
      "incarnation: 1216098099464258615\n",
      "]\n"
     ]
    }
   ],
   "source": [
    "from tensorflow.python.client import device_lib\n",
    "print(device_lib.list_local_devices())"
   ]
  },
  {
   "cell_type": "code",
   "execution_count": 2,
   "metadata": {},
   "outputs": [
    {
     "name": "stdout",
     "output_type": "stream",
     "text": [
      "\n"
     ]
    }
   ],
   "source": [
    "import tensorflow as tf\n",
    "print(tf.test.gpu_device_name())\n",
    "# See https://www.tensorflow.org/tutorials/using_gpu#allowing_gpu_memory_growth\n",
    "config = tf.ConfigProto()\n",
    "config.gpu_options.allow_growth = True\n"
   ]
  },
  {
   "cell_type": "code",
   "execution_count": 3,
   "metadata": {},
   "outputs": [
    {
     "name": "stderr",
     "output_type": "stream",
     "text": [
      "Using TensorFlow backend.\n",
      "/home/sara/anaconda3/lib/python3.6/importlib/_bootstrap.py:219: RuntimeWarning: numpy.dtype size changed, may indicate binary incompatibility. Expected 96, got 88\n",
      "  return f(*args, **kwds)\n",
      "/home/sara/anaconda3/lib/python3.6/importlib/_bootstrap.py:219: RuntimeWarning: numpy.dtype size changed, may indicate binary incompatibility. Expected 96, got 88\n",
      "  return f(*args, **kwds)\n"
     ]
    }
   ],
   "source": [
    "import os\n",
    "import tensorflow as tf\n",
    "from keras.models import Model\n",
    "from keras.layers.core import Activation, Flatten, Dense, Dropout\n",
    "from keras.layers.convolutional import Conv2D\n",
    "from keras.layers.pooling import MaxPooling2D\n",
    "from keras.layers import Input\n",
    "from keras.layers.normalization import BatchNormalization\n",
    "from keras.models import Sequential\n",
    "from keras.layers import Dense, Dropout, Activation, Flatten, Conv2D, MaxPooling2D\n",
    "from keras.applications.xception import Xception, preprocess_input\n",
    "from keras.regularizers import l2\n",
    "from keras.models import *\n",
    "from keras.layers import *\n",
    "from keras.optimizers import *\n",
    "import tflearn\n",
    "import numpy as np\n",
    "from tflearn.layers.conv import conv_2d, max_pool_2d\n",
    "from tflearn.layers.core import input_data, dropout, fully_connected\n",
    "from tflearn.layers.normalization import local_response_normalization\n",
    "from alexnet_additional_layers import split_tensor, cross_channel_normalization\n",
    "from decode_predictions import decode_classnames_json, decode_classnumber\n",
    "from keras.preprocessing.image import ImageDataGenerator\n",
    "from keras.callbacks import ModelCheckpoint\n",
    "import matplotlib.pyplot as plt\n",
    "\n",
    "from Eve import Eve\n",
    "\n",
    "%matplotlib inline"
   ]
  },
  {
   "cell_type": "markdown",
   "metadata": {},
   "source": [
    "___"
   ]
  },
  {
   "cell_type": "code",
   "execution_count": 4,
   "metadata": {},
   "outputs": [],
   "source": [
    "train_dir = 'data/Reinhard'"
   ]
  },
  {
   "cell_type": "code",
   "execution_count": 5,
   "metadata": {},
   "outputs": [
    {
     "name": "stdout",
     "output_type": "stream",
     "text": [
      "data/training 0\n",
      "data/training/Invasive 7\n",
      "data/training/Normal 7\n",
      "data/training/InSitu 7\n",
      "data/training/Benign 7\n"
     ]
    }
   ],
   "source": [
    "for root,dirs,files in os.walk(train_dir):\n",
    "    print (root, len(files))"
   ]
  },
  {
   "cell_type": "code",
   "execution_count": 6,
   "metadata": {},
   "outputs": [],
   "source": [
    "target_size = (256, 256)\n",
    "img_rows, img_cols = (256, 256)\n",
    "nb_classes = 4"
   ]
  },
  {
   "cell_type": "code",
   "execution_count": 7,
   "metadata": {},
   "outputs": [
    {
     "name": "stdout",
     "output_type": "stream",
     "text": [
      "Found 24 images belonging to 4 classes.\n",
      "Found 4 images belonging to 4 classes.\n"
     ]
    }
   ],
   "source": [
    "from keras.preprocessing.image import ImageDataGenerator\n",
    "\n",
    "# this is the augmentation configuration we will use for training\n",
    "train_datagen = ImageDataGenerator(\n",
    "    rescale=1. / 255,\n",
    "    shear_range=0.2,\n",
    "    zoom_range=0.2,\n",
    "        width_shift_range=0.2,\n",
    "        height_shift_range=0.2,\n",
    "        fill_mode='nearest',\n",
    "    horizontal_flip=True,\n",
    "    validation_split=0.25)\n",
    "\n",
    "# this is the augmentation configuration we will use for testing:\n",
    "# only rescaling\n",
    "test_datagen = ImageDataGenerator(rescale=1. / 255)\n",
    "\n",
    "\n",
    "#target_size: Tuple of integers (height, width), default: (256, 256). \n",
    "#The dimensions to which all images found will be resized.\n",
    "\n",
    "#target_size = (height, width)\n",
    "train_generator = train_datagen.flow_from_directory(\n",
    "        train_dir,\n",
    "        target_size = target_size,       \n",
    "        class_mode = 'categorical',\n",
    "        batch_size=32,\n",
    "        subset=\"training\",\n",
    "        shuffle = True)\n",
    "\n",
    "validation_generator = train_datagen.flow_from_directory(\n",
    "        train_dir,\n",
    "        target_size = target_size,        \n",
    "        class_mode = 'categorical',\n",
    "        batch_size=32,\n",
    "        subset = \"validation\",\n",
    "        shuffle = True)"
   ]
  },
  {
   "cell_type": "code",
   "execution_count": 8,
   "metadata": {},
   "outputs": [],
   "source": [
    "## Intilizing variables\n",
    "output_classes = 4\n",
    "batch_size = 32 \n",
    "epochs = 30\n",
    "\n",
    "sgd_opt = SGD(lr=1E-2, decay=1E-4, momentum=0.9, nesterov=True)\n",
    "adam_opt = Adam(lr=1E-4, beta_1=0.9, beta_2=0.999, epsilon=1e-08, decay=1E-4)\n",
    "eve_opt = Eve(lr=1E-4, decay=1E-4, beta_1=0.9, beta_2=0.999, beta_3=0.999, small_k=0.1, big_K=10, epsilon=1e-08)"
   ]
  },
  {
   "cell_type": "code",
   "execution_count": 9,
   "metadata": {},
   "outputs": [],
   "source": [
    "def Lenet1():\n",
    "    x_input = Input(shape=(img_rows, img_cols, 3), name=\"input\")\n",
    "    x = Conv2D(filters = 6, kernel_size = (5,5), strides = (1,1), padding = \"valid\", kernel_initializer='glorot_uniform')(x_input)\n",
    "    x = Activation(\"relu\")(x)\n",
    "    x = AveragePooling2D(pool_size = (2,2), strides = (2,2))(x)\n",
    "    x = Conv2D(filters = 16, kernel_size = (5,5), strides = (1,1), padding = \"valid\", name = \"conv_1\",kernel_initializer='glorot_uniform')(x)\n",
    "    x = Activation(\"relu\")(x)\n",
    "    x = AveragePooling2D(pool_size = (2,2), strides = (2,2))(x)\n",
    "    x = Flatten()(x)\n",
    "    x = Dense(120, activation = \"relu\")(x)\n",
    "    x = Dropout(rate = 0.5)(x)\n",
    "    x = Dense(120, activation =\"relu\")(x)\n",
    "    x = Dropout(rate = 0.5)(x)\n",
    "    predictions = Dense(nb_classes, activation=\"softmax\")(x)\n",
    "    Lenet1 = Model(inputs=[x_input], outputs = [predictions])\n",
    "    \n",
    "    return Lenet1"
   ]
  },
  {
   "cell_type": "code",
   "execution_count": 10,
   "metadata": {},
   "outputs": [
    {
     "name": "stdout",
     "output_type": "stream",
     "text": [
      "_________________________________________________________________\n",
      "Layer (type)                 Output Shape              Param #   \n",
      "=================================================================\n",
      "input (InputLayer)           (None, 256, 256, 3)       0         \n",
      "_________________________________________________________________\n",
      "conv2d_1 (Conv2D)            (None, 252, 252, 6)       456       \n",
      "_________________________________________________________________\n",
      "activation_1 (Activation)    (None, 252, 252, 6)       0         \n",
      "_________________________________________________________________\n",
      "average_pooling2d_1 (Average (None, 126, 126, 6)       0         \n",
      "_________________________________________________________________\n",
      "conv_1 (Conv2D)              (None, 122, 122, 16)      2416      \n",
      "_________________________________________________________________\n",
      "activation_2 (Activation)    (None, 122, 122, 16)      0         \n",
      "_________________________________________________________________\n",
      "average_pooling2d_2 (Average (None, 61, 61, 16)        0         \n",
      "_________________________________________________________________\n",
      "flatten_1 (Flatten)          (None, 59536)             0         \n",
      "_________________________________________________________________\n",
      "dense_1 (Dense)              (None, 120)               7144440   \n",
      "_________________________________________________________________\n",
      "dropout_1 (Dropout)          (None, 120)               0         \n",
      "_________________________________________________________________\n",
      "dense_2 (Dense)              (None, 120)               14520     \n",
      "_________________________________________________________________\n",
      "dropout_2 (Dropout)          (None, 120)               0         \n",
      "_________________________________________________________________\n",
      "dense_3 (Dense)              (None, 4)                 484       \n",
      "=================================================================\n",
      "Total params: 7,162,316\n",
      "Trainable params: 7,162,316\n",
      "Non-trainable params: 0\n",
      "_________________________________________________________________\n"
     ]
    }
   ],
   "source": [
    "model = Lenet1()\n",
    "model.summary()\n",
    "model.compile(loss = 'categorical_crossentropy',\n",
    "              optimizer = eve_opt,\n",
    "              metrics = ['accuracy'])"
   ]
  },
  {
   "cell_type": "code",
   "execution_count": 11,
   "metadata": {},
   "outputs": [
    {
     "data": {
      "text/plain": [
       "24"
      ]
     },
     "execution_count": 11,
     "metadata": {},
     "output_type": "execute_result"
    }
   ],
   "source": [
    "num_train_samples= len(train_generator.filenames)\n",
    "num_train_samples"
   ]
  },
  {
   "cell_type": "code",
   "execution_count": 12,
   "metadata": {},
   "outputs": [
    {
     "data": {
      "text/plain": [
       "4"
      ]
     },
     "execution_count": 12,
     "metadata": {},
     "output_type": "execute_result"
    }
   ],
   "source": [
    "num_val_samples= len(validation_generator.filenames)\n",
    "num_val_samples"
   ]
  },
  {
   "cell_type": "code",
   "execution_count": 13,
   "metadata": {},
   "outputs": [
    {
     "name": "stdout",
     "output_type": "stream",
     "text": [
      "WARNING:tensorflow:Variable *= will be deprecated. Use variable.assign_mul if you want assignment to the variable value or 'x = x * y' if you want a new python Tensor object.\n",
      "Epoch 1/30\n",
      "1/1 [==============================] - 4s 4s/step - loss: 1.4055 - acc: 0.2500 - val_loss: 1.4198 - val_acc: 0.2500\n",
      "Epoch 2/30\n",
      "1/1 [==============================] - 2s 2s/step - loss: 1.3602 - acc: 0.3750 - val_loss: 1.4375 - val_acc: 0.2500\n",
      "Epoch 3/30\n",
      "1/1 [==============================] - 2s 2s/step - loss: 1.2831 - acc: 0.3333 - val_loss: 1.4013 - val_acc: 0.2500\n",
      "Epoch 4/30\n",
      "1/1 [==============================] - 2s 2s/step - loss: 1.3864 - acc: 0.3750 - val_loss: 1.4059 - val_acc: 0.2500\n",
      "Epoch 5/30\n",
      "1/1 [==============================] - 2s 2s/step - loss: 1.4006 - acc: 0.3750 - val_loss: 1.4138 - val_acc: 0.5000\n",
      "Epoch 6/30\n",
      "1/1 [==============================] - 2s 2s/step - loss: 1.7292 - acc: 0.2917 - val_loss: 1.4035 - val_acc: 0.2500\n",
      "Epoch 7/30\n",
      "1/1 [==============================] - 2s 2s/step - loss: 1.6314 - acc: 0.2917 - val_loss: 1.3952 - val_acc: 0.2500\n",
      "Epoch 8/30\n",
      "1/1 [==============================] - 2s 2s/step - loss: 1.3710 - acc: 0.2083 - val_loss: 1.3802 - val_acc: 0.2500\n",
      "Epoch 9/30\n",
      "1/1 [==============================] - 2s 2s/step - loss: 1.3654 - acc: 0.3750 - val_loss: 1.3766 - val_acc: 0.2500\n",
      "Epoch 10/30\n",
      "1/1 [==============================] - 2s 2s/step - loss: 1.4437 - acc: 0.2917 - val_loss: 1.3865 - val_acc: 0.2500\n",
      "Epoch 11/30\n",
      "1/1 [==============================] - 2s 2s/step - loss: 1.2836 - acc: 0.3333 - val_loss: 1.3772 - val_acc: 0.2500\n",
      "Epoch 12/30\n",
      "1/1 [==============================] - 2s 2s/step - loss: 1.6480 - acc: 0.2083 - val_loss: 1.3761 - val_acc: 0.2500\n",
      "Epoch 13/30\n",
      "1/1 [==============================] - 2s 2s/step - loss: 1.4759 - acc: 0.2500 - val_loss: 1.3794 - val_acc: 0.2500\n",
      "Epoch 14/30\n",
      "1/1 [==============================] - 2s 2s/step - loss: 1.4418 - acc: 0.2917 - val_loss: 1.3825 - val_acc: 0.2500\n",
      "Epoch 15/30\n",
      "1/1 [==============================] - 2s 2s/step - loss: 1.5717 - acc: 0.1667 - val_loss: 1.3722 - val_acc: 0.2500\n",
      "Epoch 16/30\n",
      "1/1 [==============================] - 2s 2s/step - loss: 1.4976 - acc: 0.0833 - val_loss: 1.3768 - val_acc: 0.2500\n",
      "Epoch 17/30\n",
      "1/1 [==============================] - 2s 2s/step - loss: 1.4194 - acc: 0.2083 - val_loss: 1.3644 - val_acc: 0.5000\n",
      "Epoch 18/30\n",
      "1/1 [==============================] - 2s 2s/step - loss: 1.3482 - acc: 0.3750 - val_loss: 1.3702 - val_acc: 0.2500\n",
      "Epoch 19/30\n",
      "1/1 [==============================] - 2s 2s/step - loss: 1.3894 - acc: 0.2500 - val_loss: 1.3694 - val_acc: 0.2500\n",
      "Epoch 20/30\n",
      "1/1 [==============================] - 2s 2s/step - loss: 1.4540 - acc: 0.2083 - val_loss: 1.3619 - val_acc: 0.2500\n",
      "Epoch 21/30\n",
      "1/1 [==============================] - 2s 2s/step - loss: 1.4034 - acc: 0.2917 - val_loss: 1.3619 - val_acc: 0.2500\n",
      "Epoch 22/30\n",
      "1/1 [==============================] - 2s 2s/step - loss: 1.4137 - acc: 0.2917 - val_loss: 1.3486 - val_acc: 0.2500\n",
      "Epoch 23/30\n",
      "1/1 [==============================] - 2s 2s/step - loss: 1.4790 - acc: 0.1667 - val_loss: 1.3522 - val_acc: 0.2500\n",
      "Epoch 24/30\n",
      "1/1 [==============================] - 2s 2s/step - loss: 1.3121 - acc: 0.3750 - val_loss: 1.3570 - val_acc: 0.2500\n",
      "Epoch 25/30\n",
      "1/1 [==============================] - 2s 2s/step - loss: 1.3378 - acc: 0.2917 - val_loss: 1.3481 - val_acc: 0.2500\n",
      "Epoch 26/30\n",
      "1/1 [==============================] - 2s 2s/step - loss: 1.3712 - acc: 0.2500 - val_loss: 1.3455 - val_acc: 0.2500\n",
      "Epoch 27/30\n",
      "1/1 [==============================] - 2s 2s/step - loss: 1.3953 - acc: 0.2500 - val_loss: 1.3248 - val_acc: 0.5000\n",
      "Epoch 28/30\n",
      "1/1 [==============================] - 2s 2s/step - loss: 1.3403 - acc: 0.3333 - val_loss: 1.3299 - val_acc: 0.5000\n",
      "Epoch 29/30\n",
      "1/1 [==============================] - 2s 2s/step - loss: 1.4205 - acc: 0.2083 - val_loss: 1.3255 - val_acc: 0.5000\n",
      "Epoch 30/30\n",
      "1/1 [==============================] - 2s 2s/step - loss: 1.3307 - acc: 0.4167 - val_loss: 1.3292 - val_acc: 0.5000\n"
     ]
    }
   ],
   "source": [
    "history = model.fit_generator(train_generator,\n",
    "        steps_per_epoch =int(np.ceil(num_train_samples * 1.0 / batch_size)),\n",
    "        epochs = epochs,\n",
    "        validation_data = validation_generator,\n",
    "        validation_steps=int(np.ceil(num_val_samples * 1.0 / batch_size)))"
   ]
  },
  {
   "cell_type": "code",
   "execution_count": 14,
   "metadata": {},
   "outputs": [
    {
     "name": "stdout",
     "output_type": "stream",
     "text": [
      "dict_keys(['val_loss', 'val_acc', 'loss', 'acc'])\n"
     ]
    }
   ],
   "source": [
    "print(history.history.keys())"
   ]
  },
  {
   "cell_type": "code",
   "execution_count": 15,
   "metadata": {},
   "outputs": [
    {
     "data": {
      "text/plain": [
       "[1.4198412895202637,\n",
       " 1.4375464916229248,\n",
       " 1.401309847831726,\n",
       " 1.405901312828064,\n",
       " 1.4138362407684326,\n",
       " 1.4035385847091675,\n",
       " 1.3951739072799683,\n",
       " 1.3801604509353638,\n",
       " 1.3765771389007568,\n",
       " 1.386504054069519,\n",
       " 1.377229928970337,\n",
       " 1.376132845878601,\n",
       " 1.3793659210205078,\n",
       " 1.3824717998504639,\n",
       " 1.3722400665283203,\n",
       " 1.3768126964569092,\n",
       " 1.364446997642517,\n",
       " 1.3701906204223633,\n",
       " 1.3693712949752808,\n",
       " 1.3619427680969238,\n",
       " 1.3619251251220703,\n",
       " 1.348621129989624,\n",
       " 1.3521885871887207,\n",
       " 1.3570317029953003,\n",
       " 1.3481066226959229,\n",
       " 1.345481038093567,\n",
       " 1.3247990608215332,\n",
       " 1.3298529386520386,\n",
       " 1.3255128860473633,\n",
       " 1.3292471170425415]"
      ]
     },
     "execution_count": 15,
     "metadata": {},
     "output_type": "execute_result"
    }
   ],
   "source": [
    "history.history[\"val_loss\"]"
   ]
  },
  {
   "cell_type": "code",
   "execution_count": 16,
   "metadata": {},
   "outputs": [
    {
     "data": {
      "text/plain": [
       "[0.25,\n",
       " 0.25,\n",
       " 0.25,\n",
       " 0.25,\n",
       " 0.5,\n",
       " 0.25,\n",
       " 0.25,\n",
       " 0.25,\n",
       " 0.25,\n",
       " 0.25,\n",
       " 0.25,\n",
       " 0.25,\n",
       " 0.25,\n",
       " 0.25,\n",
       " 0.25,\n",
       " 0.25,\n",
       " 0.5,\n",
       " 0.25,\n",
       " 0.25,\n",
       " 0.25,\n",
       " 0.25,\n",
       " 0.25,\n",
       " 0.25,\n",
       " 0.25,\n",
       " 0.25,\n",
       " 0.25,\n",
       " 0.5,\n",
       " 0.5,\n",
       " 0.5,\n",
       " 0.5]"
      ]
     },
     "execution_count": 16,
     "metadata": {},
     "output_type": "execute_result"
    }
   ],
   "source": [
    "history.history[\"val_acc\"]"
   ]
  },
  {
   "cell_type": "code",
   "execution_count": 17,
   "metadata": {},
   "outputs": [
    {
     "data": {
      "text/plain": [
       "[1.4054874181747437,\n",
       " 1.3601771593093872,\n",
       " 1.2831414937973022,\n",
       " 1.386396050453186,\n",
       " 1.400600790977478,\n",
       " 1.7291593551635742,\n",
       " 1.6313718557357788,\n",
       " 1.3710178136825562,\n",
       " 1.3653887510299683,\n",
       " 1.4436746835708618,\n",
       " 1.283590316772461,\n",
       " 1.648036003112793,\n",
       " 1.4759373664855957,\n",
       " 1.4418096542358398,\n",
       " 1.5717233419418335,\n",
       " 1.4976415634155273,\n",
       " 1.4194053411483765,\n",
       " 1.3482283353805542,\n",
       " 1.3894046545028687,\n",
       " 1.4540432691574097,\n",
       " 1.4033679962158203,\n",
       " 1.4136899709701538,\n",
       " 1.4789705276489258,\n",
       " 1.3120872974395752,\n",
       " 1.3377619981765747,\n",
       " 1.371202826499939,\n",
       " 1.3952723741531372,\n",
       " 1.3402808904647827,\n",
       " 1.420469880104065,\n",
       " 1.3307124376296997]"
      ]
     },
     "execution_count": 17,
     "metadata": {},
     "output_type": "execute_result"
    }
   ],
   "source": [
    "history.history[\"loss\"]"
   ]
  },
  {
   "cell_type": "code",
   "execution_count": 18,
   "metadata": {},
   "outputs": [
    {
     "data": {
      "text/plain": [
       "[0.25,\n",
       " 0.375,\n",
       " 0.3333333432674408,\n",
       " 0.375,\n",
       " 0.375,\n",
       " 0.2916666567325592,\n",
       " 0.2916666567325592,\n",
       " 0.2083333283662796,\n",
       " 0.375,\n",
       " 0.2916666567325592,\n",
       " 0.3333333432674408,\n",
       " 0.2083333283662796,\n",
       " 0.25,\n",
       " 0.2916666567325592,\n",
       " 0.1666666716337204,\n",
       " 0.0833333358168602,\n",
       " 0.2083333283662796,\n",
       " 0.375,\n",
       " 0.25,\n",
       " 0.2083333283662796,\n",
       " 0.2916666567325592,\n",
       " 0.2916666567325592,\n",
       " 0.1666666716337204,\n",
       " 0.375,\n",
       " 0.2916666567325592,\n",
       " 0.25,\n",
       " 0.25,\n",
       " 0.3333333432674408,\n",
       " 0.2083333283662796,\n",
       " 0.4166666567325592]"
      ]
     },
     "execution_count": 18,
     "metadata": {},
     "output_type": "execute_result"
    }
   ],
   "source": [
    "history.history[\"acc\"]"
   ]
  },
  {
   "cell_type": "code",
   "execution_count": 19,
   "metadata": {},
   "outputs": [
    {
     "name": "stdout",
     "output_type": "stream",
     "text": [
      "Test Score:  1.327929346561432\n",
      "Test Accuracy:  0.5\n"
     ]
    }
   ],
   "source": [
    "score = model.evaluate_generator(validation_generator, steps=50)\n",
    "\n",
    "print ('Test Score: ', score[0])\n",
    "print ('Test Accuracy: ',score[1])"
   ]
  },
  {
   "cell_type": "code",
   "execution_count": 20,
   "metadata": {},
   "outputs": [
    {
     "data": {
      "image/png": "[encoded data removed]",
      "text/plain": [
       "<Figure size 432x288 with 1 Axes>"
      ]
     },
     "metadata": {},
     "output_type": "display_data"
    },
    {
     "data": {
      "image/png": "[encoded data removed]",
      "text/plain": [
       "<Figure size 432x288 with 1 Axes>"
      ]
     },
     "metadata": {},
     "output_type": "display_data"
    }
   ],
   "source": [
    "import matplotlib.pyplot as plt\n",
    "\n",
    "plt.plot(history.history['acc'])\n",
    "plt.plot(history.history['val_acc'])\n",
    "plt.title('model accuracy')\n",
    "plt.ylabel('accuracy')\n",
    "plt.xlabel('epoch')\n",
    "plt.legend(['train', 'test'], loc='upper left')\n",
    "plt.show()\n",
    "# summarize history for loss\n",
    "plt.plot(history.history['loss'])\n",
    "plt.plot(history.history['val_loss'])\n",
    "plt.title('model loss')\n",
    "plt.ylabel('loss')\n",
    "plt.xlabel('epoch')\n",
    "plt.legend(['train', 'test'], loc='upper left')\n",
    "plt.show()"
   ]
  },
  {
   "cell_type": "code",
   "execution_count": 21,
   "metadata": {},
   "outputs": [
    {
     "data": {
      "image/png": "[encoded data removed]",
      "text/plain": [
       "<Figure size 432x288 with 1 Axes>"
      ]
     },
     "metadata": {},
     "output_type": "display_data"
    },
    {
     "data": {
      "image/png": "[encoded data removed]",
      "text/plain": [
       "<Figure size 432x288 with 1 Axes>"
      ]
     },
     "metadata": {},
     "output_type": "display_data"
    }
   ],
   "source": [
    "acc = history.history['acc']\n",
    "val_acc = history.history['val_acc']\n",
    "loss = history.history['loss']\n",
    "val_loss = history.history['val_loss']\n",
    "\n",
    "epochs = range(len(acc))\n",
    "\n",
    "plt.plot(epochs, acc, 'bo', label='Training acc')\n",
    "plt.plot(epochs, val_acc, 'b', label='Validation acc')\n",
    "plt.title('Training and validation accuracy')\n",
    "plt.legend()\n",
    "\n",
    "plt.figure()\n",
    "\n",
    "plt.plot(epochs, loss, 'bo', label='Training loss')\n",
    "plt.plot(epochs, val_loss, 'b', label='Validation loss')\n",
    "plt.title('Training and validation loss')\n",
    "plt.legend()\n",
    "\n",
    "plt.show()\n"
   ]
  },
  {
   "cell_type": "code",
   "execution_count": 22,
   "metadata": {},
   "outputs": [
    {
     "data": {
      "image/png": "[encoded data removed]",
      "text/plain": [
       "<Figure size 432x288 with 1 Axes>"
      ]
     },
     "metadata": {},
     "output_type": "display_data"
    }
   ],
   "source": [
    "import numpy as np\n",
    "plt.figure(1)\n",
    "plt.plot(history.history['loss'],'r')\n",
    "plt.plot(history.history['val_loss'],'g')\n",
    "plt.rcParams['figure.figsize'] = (8, 6)\n",
    "plt.xlabel(\"Num of Epochs\")\n",
    "plt.ylabel(\"Loss\")\n",
    "plt.title(\"Training Loss vs Validation Loss\")\n",
    "plt.legend(['train','validation'])\n",
    "\n",
    "plt.show()"
   ]
  },
  {
   "cell_type": "code",
   "execution_count": 23,
   "metadata": {},
   "outputs": [],
   "source": [
    "filename = validation_generator.filenames\n",
    "truth = validation_generator.classes\n",
    "label = validation_generator.class_indices\n",
    "indexlabel = dict((value, key) for key, value in label.items())"
   ]
  },
  {
   "cell_type": "code",
   "execution_count": 24,
   "metadata": {},
   "outputs": [
    {
     "name": "stdout",
     "output_type": "stream",
     "text": [
      "1/0 [================================================================================================================================================================================================================================================] - 1s 534ms/step\n",
      "No of errors = 3/4\n"
     ]
    }
   ],
   "source": [
    "predicts = model.predict_generator(validation_generator, steps=validation_generator.samples/validation_generator.batch_size, verbose=1)\n",
    "predict_class = np.argmax(predicts, axis=1)\n",
    "errors = np.where(predict_class != truth)[0]\n",
    "print(\"No of errors = {}/{}\".format(len(errors),validation_generator.samples))"
   ]
  },
  {
   "cell_type": "code",
   "execution_count": 25,
   "metadata": {},
   "outputs": [
    {
     "name": "stdout",
     "output_type": "stream",
     "text": [
      "Confusion Matrix\n",
      "[[0 1 0 0]\n",
      " [0 0 0 1]\n",
      " [0 0 0 1]\n",
      " [0 0 0 1]]\n"
     ]
    },
    {
     "data": {
      "image/png": "[encoded data removed]",
      "text/plain": [
       "<Figure size 720x720 with 2 Axes>"
      ]
     },
     "metadata": {},
     "output_type": "display_data"
    }
   ],
   "source": [
    "from sklearn.metrics import confusion_matrix\n",
    "cm = confusion_matrix(truth,predict_class)\n",
    "\n",
    "labels = []\n",
    "for k,v in indexlabel.items():\n",
    "    labels.append(v)\n",
    "    \n",
    "import itertools\n",
    "def plot_confusion_matrix(cm, classes,\n",
    "                          normalize=False,\n",
    "                          title='Confusion Matrix',\n",
    "                          cmap=plt.cm.Blues):\n",
    "    \"\"\"\n",
    "    This function prints and plots the confusion matrix.\n",
    "    Normalization can be applied by setting `normalize=True`.\n",
    "    \"\"\"\n",
    "    if normalize:\n",
    "        cm = cm.astype('float') / cm.sum(axis=1)[:, np.newaxis]\n",
    "        print(\"Normalized confusion matrix\")\n",
    "    else:\n",
    "        print('Confusion Matrix')\n",
    "\n",
    "    print(cm)\n",
    "\n",
    "    plt.imshow(cm, interpolation='nearest', cmap=cmap)\n",
    "    plt.title(title)\n",
    "    plt.colorbar()\n",
    "    tick_marks = np.arange(len(classes))\n",
    "    plt.xticks(tick_marks, classes, rotation=45)\n",
    "    plt.yticks(tick_marks, classes)\n",
    "\n",
    "    fmt = '.2f' if normalize else 'd'\n",
    "    thresh = cm.max() / 2.\n",
    "    for i, j in itertools.product(range(cm.shape[0]), range(cm.shape[1])):\n",
    "        plt.text(j, i, format(cm[i, j], fmt),\n",
    "                 horizontalalignment=\"center\",\n",
    "                 color=\"white\" if cm[i, j] > thresh else \"black\")\n",
    "\n",
    "    plt.tight_layout()\n",
    "    plt.ylabel('True label')\n",
    "    plt.xlabel('Predicted label')\n",
    "    \n",
    "\n",
    "plt.figure(figsize=(10,10))\n",
    "plot_confusion_matrix(cm, classes=labels,\n",
    "                      title='Confusion Matrix')"
   ]
  },
  {
   "cell_type": "code",
   "execution_count": 26,
   "metadata": {},
   "outputs": [],
   "source": [
    "from sklearn.metrics import classification_report, accuracy_score, roc_auc_score \n",
    "\n",
    "#and reports metrics with classification_report method\n",
    "def predict_and_report(gen, model):\n",
    "    y_true = []\n",
    "    y_pred = []\n",
    "    gen.reset()\n",
    "    for img, label in gen:\n",
    "        #get true labels for batch and store them\n",
    "        y_true.extend([int(z[1]) for z in label])\n",
    "        #Get predictions as probabilities\n",
    "        batch_pred = model.predict_on_batch(img)\n",
    "        #turn probabilities to class labels and store\n",
    "        batch_pred = np.argmax(batch_pred, axis=1)\n",
    "        y_pred.extend(batch_pred)\n",
    "        #break loop\n",
    "        if gen.batch_index == 0:\n",
    "            break\n",
    "            \n",
    "    print('Accuracy:', accuracy_score(y_true, y_pred))\n",
    "    print('Area Under the Receiver Operating Characteristic Curve:', roc_auc_score(y_true, y_pred)) #Area under the curve\n",
    "    print(classification_report(y_true, y_pred))"
   ]
  },
  {
   "cell_type": "code",
   "execution_count": 27,
   "metadata": {},
   "outputs": [
    {
     "name": "stdout",
     "output_type": "stream",
     "text": [
      "Accuracy: 0.25\n",
      "Area Under the Receiver Operating Characteristic Curve: 0.3888888888888889\n",
      "             precision    recall  f1-score   support\n",
      "\n",
      "          0       0.00      0.00      0.00        18\n",
      "          1       0.30      1.00      0.46         6\n",
      "          3       0.00      0.00      0.00         0\n",
      "\n",
      "avg / total       0.07      0.25      0.12        24\n",
      "\n"
     ]
    },
    {
     "name": "stderr",
     "output_type": "stream",
     "text": [
      "/home/sara/anaconda3/lib/python3.6/site-packages/sklearn/metrics/classification.py:1135: UndefinedMetricWarning: Precision and F-score are ill-defined and being set to 0.0 in labels with no predicted samples.\n",
      "  'precision', 'predicted', average, warn_for)\n",
      "/home/sara/anaconda3/lib/python3.6/site-packages/sklearn/metrics/classification.py:1137: UndefinedMetricWarning: Recall and F-score are ill-defined and being set to 0.0 in labels with no true samples.\n",
      "  'recall', 'true', average, warn_for)\n"
     ]
    }
   ],
   "source": [
    "predict_and_report(train_generator, model)"
   ]
  },
  {
   "cell_type": "code",
   "execution_count": 28,
   "metadata": {},
   "outputs": [
    {
     "name": "stdout",
     "output_type": "stream",
     "text": [
      "Accuracy: 0.25\n",
      "Area Under the Receiver Operating Characteristic Curve: 0.0\n",
      "             precision    recall  f1-score   support\n",
      "\n",
      "          0       0.00      0.00      0.00         3\n",
      "          1       1.00      1.00      1.00         1\n",
      "          3       0.00      0.00      0.00         0\n",
      "\n",
      "avg / total       0.25      0.25      0.25         4\n",
      "\n"
     ]
    },
    {
     "name": "stderr",
     "output_type": "stream",
     "text": [
      "/home/sara/anaconda3/lib/python3.6/site-packages/sklearn/metrics/classification.py:1135: UndefinedMetricWarning: Precision and F-score are ill-defined and being set to 0.0 in labels with no predicted samples.\n",
      "  'precision', 'predicted', average, warn_for)\n",
      "/home/sara/anaconda3/lib/python3.6/site-packages/sklearn/metrics/classification.py:1137: UndefinedMetricWarning: Recall and F-score are ill-defined and being set to 0.0 in labels with no true samples.\n",
      "  'recall', 'true', average, warn_for)\n"
     ]
    }
   ],
   "source": [
    "predict_and_report(validation_generator, model)"
   ]
  },
  {
   "cell_type": "code",
   "execution_count": 29,
   "metadata": {},
   "outputs": [
    {
     "data": {
      "text/plain": [
       "0.4166666567325592"
      ]
     },
     "execution_count": 29,
     "metadata": {},
     "output_type": "execute_result"
    }
   ],
   "source": [
    "best_train_acc = max(history.history['acc'])\n",
    "best_train_acc"
   ]
  },
  {
   "cell_type": "code",
   "execution_count": 30,
   "metadata": {},
   "outputs": [
    {
     "data": {
      "text/plain": [
       "0.4166666567325592"
      ]
     },
     "execution_count": 30,
     "metadata": {},
     "output_type": "execute_result"
    }
   ],
   "source": [
    "last_train_acc = history.history['acc'][-1]\n",
    "last_train_acc"
   ]
  },
  {
   "cell_type": "code",
   "execution_count": 31,
   "metadata": {},
   "outputs": [],
   "source": [
    "model.save('models/2.LeNet1-Eve-Model.h5')\n",
    "model.save_weights('models/2.LeNet1-Eve-Weights.h5')"
   ]
  },
  {
   "cell_type": "code",
   "execution_count": null,
   "metadata": {},
   "outputs": [],
   "source": []
  }
 ],
 "metadata": {
  "kernelspec": {
   "display_name": "Python 3",
   "language": "python",
   "name": "python3"
  },
  "language_info": {
   "codemirror_mode": {
    "name": "ipython",
    "version": 3
   },
   "file_extension": ".py",
   "mimetype": "text/x-python",
   "name": "python",
   "nbconvert_exporter": "python",
   "pygments_lexer": "ipython3",
   "version": "3.6.5"
  }
 },
 "nbformat": 4,
 "nbformat_minor": 2
}
